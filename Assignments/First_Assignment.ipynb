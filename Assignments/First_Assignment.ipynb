{
  "nbformat": 4,
  "nbformat_minor": 0,
  "metadata": {
    "colab": {
      "provenance": []
    },
    "kernelspec": {
      "name": "python3",
      "display_name": "Python 3"
    },
    "language_info": {
      "name": "python"
    }
  },
  "cells": [
    {
      "cell_type": "code",
      "execution_count": 2,
      "metadata": {
        "colab": {
          "base_uri": "https://localhost:8080/"
        },
        "id": "qZOFrSvtR6dV",
        "outputId": "d9b9851d-eb6f-4261-c6c6-8859ef77071e"
      },
      "outputs": [
        {
          "output_type": "stream",
          "name": "stdout",
          "text": [
            "Enter your salary.100000\n",
            "Enter the years you've worked.6\n",
            "Bonus is 5000.0\n"
          ]
        }
      ],
      "source": [
        "# 1\n",
        "\n",
        "salary = float(input(\"Enter your salary.\"))\n",
        "years = float(input(\"Enter the years you've worked.\"))\n",
        "\n",
        "if years > 5:\n",
        "  bonus = .05 * salary\n",
        "  print(\"Bonus is\", bonus)\n",
        "else:\n",
        "  print(\"Sorry, you receive no bonus.\")"
      ]
    },
    {
      "cell_type": "code",
      "source": [
        "# 2\n",
        "\n",
        "length = input(\"Enter the length\")\n",
        "breadth = input(\"Enter the breadth\")\n",
        "\n",
        "if length == breadth:\n",
        "  print(\"It is a square\")\n",
        "else:\n",
        "  print(\"It is not a square\")\n"
      ],
      "metadata": {
        "colab": {
          "base_uri": "https://localhost:8080/"
        },
        "id": "p7ldDARO0JhQ",
        "outputId": "437e37dc-3c74-4fb5-eb2c-a1984082b35f"
      },
      "execution_count": 3,
      "outputs": [
        {
          "output_type": "stream",
          "name": "stdout",
          "text": [
            "Enter the length5\n",
            "Enter the breadth5\n",
            "It is a square\n"
          ]
        }
      ]
    },
    {
      "cell_type": "code",
      "source": [
        "# 3\n",
        "\n",
        "a = int(input(\"Enter the first value\"))\n",
        "b = int(input(\"Enter the second value\"))\n",
        "\n",
        "if a>b:\n",
        "  print(a, \"is greatest number among the two.\")\n",
        "else:\n",
        "  print(b, \"is greatest number among the two.\")"
      ],
      "metadata": {
        "colab": {
          "base_uri": "https://localhost:8080/"
        },
        "id": "sL44885u2HQy",
        "outputId": "55ef5636-701a-4d31-b41f-31273b5c5ecc"
      },
      "execution_count": 10,
      "outputs": [
        {
          "output_type": "stream",
          "name": "stdout",
          "text": [
            "Enter the first value7\n",
            "Enter the second value9\n",
            "9 is greatest number among the two.\n"
          ]
        }
      ]
    },
    {
      "cell_type": "code",
      "source": [
        "#4\n",
        "\n",
        "quantity = int(input(\"Enter the quantity\"))\n",
        "units = quantity * 100\n",
        "\n",
        "if units <= 1000:\n",
        "  print(\"The total cost is \", units )\n",
        "elif units > 1000:\n",
        "  final = units - 10/100 * units\n",
        "  print(\"The total cost is \", final)"
      ],
      "metadata": {
        "colab": {
          "base_uri": "https://localhost:8080/"
        },
        "id": "Y1Gafanb2uzP",
        "outputId": "508e12bb-ac33-4c36-d44a-4f986abe06b8"
      },
      "execution_count": 19,
      "outputs": [
        {
          "output_type": "stream",
          "name": "stdout",
          "text": [
            "Enter the quantity11\n",
            "The total cost is  990.0\n"
          ]
        }
      ]
    },
    {
      "cell_type": "code",
      "source": [
        "# 5\n",
        "\n",
        "marks = int(input(\"Enter the marks. \"))\n",
        "\n",
        "if marks <25:\n",
        "  print(\"Grade: F\")\n",
        "elif marks >= 25 and marks < 45:\n",
        "  print(\"Grade: E\")\n",
        "elif marks >= 45 and marks < 50:\n",
        "  print(\"Grade: D\")\n",
        "elif marks >= 50 and marks < 60:\n",
        "  print(\"Grade: C\")\n",
        "elif marks >= 60 and marks < 80:\n",
        "  print(\"Grade: B\")\n",
        "elif marks > 80:\n",
        "  print(\"Grade: A\")"
      ],
      "metadata": {
        "colab": {
          "base_uri": "https://localhost:8080/"
        },
        "id": "cvRbfGuZ3kn9",
        "outputId": "99e61883-c46d-4635-ba13-bc92a293ff67"
      },
      "execution_count": 27,
      "outputs": [
        {
          "output_type": "stream",
          "name": "stdout",
          "text": [
            "Enter the marks. 91\n",
            "Grade: A\n"
          ]
        }
      ]
    },
    {
      "cell_type": "code",
      "source": [
        "# 6\n",
        "\n",
        "a = int(input(\"Enter the first age: \"))\n",
        "b = int(input(\"Enter the second age: \"))\n",
        "c = int(input(\"Enter the third age: \"))\n",
        "\n",
        "if a >= b and a >= c:\n",
        "  print(\"The oldest is:\", a)\n",
        "  if b < c:\n",
        "    print(\"The youngest is:\", b)\n",
        "  else:\n",
        "    print(\"The youngest is:\", c)\n",
        "elif b >= a  and b >= c:\n",
        "  print(\"The oldest is:\", b)\n",
        "  if a < c:\n",
        "    print(\"The youngest is:\", a)\n",
        "  else:\n",
        "    print(\"The youngest is:\", c)\n",
        "elif c >= a and c >= b:\n",
        "  print(\"The oldest is:\", c)\n",
        "  if a < b:\n",
        "    print(\"The youngest is:\", a)\n",
        "  else:\n",
        "    print(\"The youngest is:\", b)\n",
        "else:\n",
        "  print(\"All are equal\")"
      ],
      "metadata": {
        "colab": {
          "base_uri": "https://localhost:8080/"
        },
        "id": "nZMTIdVx58AH",
        "outputId": "70057f33-928b-4190-92f6-2839cd360bf4"
      },
      "execution_count": 8,
      "outputs": [
        {
          "output_type": "stream",
          "name": "stdout",
          "text": [
            "Enter the first age: 55\n",
            "Enter the second age: 67\n",
            "Enter the third age: 89\n",
            "The oldest is: 89\n",
            "The youngest is: 55\n"
          ]
        }
      ]
    },
    {
      "cell_type": "code",
      "source": [
        "# 7\n",
        "\n",
        "num = float(input(\"Enter a number\"))\n",
        "\n",
        "if num <0:\n",
        "  num = num*-1\n",
        "\n",
        "print(\"The absolute value is\", num)"
      ],
      "metadata": {
        "colab": {
          "base_uri": "https://localhost:8080/"
        },
        "id": "rEUAubOt_sEW",
        "outputId": "2adfe547-1751-4d84-cd36-a49ed33ef910"
      },
      "execution_count": 10,
      "outputs": [
        {
          "output_type": "stream",
          "name": "stdout",
          "text": [
            "Enter a number-7\n",
            "The absolute value is 7.0\n"
          ]
        }
      ]
    },
    {
      "cell_type": "code",
      "source": [
        "# 8\n",
        "\n",
        "held = int(input(\"Enter the number of classes held.\"))\n",
        "attended = int(input(\"Enter the number of classes attended.\"))\n",
        "perc = attended/held * 100\n",
        "\n",
        "print(\"The total class attended is\", perc, \"%\")\n",
        "if perc <= 75:\n",
        "  print(\"You will not be allowed to sit in exams.\")\n",
        "if perc > 75:\n",
        "  print(\"You will be allowed to sit in exams.\")"
      ],
      "metadata": {
        "colab": {
          "base_uri": "https://localhost:8080/"
        },
        "id": "78235u1RA1Sy",
        "outputId": "1b0bbecd-2c72-4ba1-8976-c43f79858c5f"
      },
      "execution_count": 34,
      "outputs": [
        {
          "output_type": "stream",
          "name": "stdout",
          "text": [
            "Enter the number of classes held.100\n",
            "Enter the number of classes attended.50\n",
            "The total class attended is 50.0 %\n",
            "You will not be allowed to sit in exams.\n"
          ]
        }
      ]
    },
    {
      "cell_type": "code",
      "source": [
        "# 9\n",
        "\n",
        "held = int(input(\"Enter the number of classes held.\"))\n",
        "attended = int(input(\"Enter the number of classes attended.\"))\n",
        "medical = input(\"Do you have a medical cause? (Y/N)\")\n",
        "perc = attended/held * 100\n",
        "\n",
        "print(\"The total class attended is\", perc, \"%\")\n",
        "if perc < 75 and medical == \"N\":\n",
        "  print(\"You will not be allowed to sit in exams.\")\n",
        "elif perc < 75 and medical == \"Y\":\n",
        "  print(\"You will be allowed to sit in exams due to your medical condition.\")\n",
        "elif perc > 75:\n",
        "  print(\"You will be allowed to sit in exams.\")"
      ],
      "metadata": {
        "colab": {
          "base_uri": "https://localhost:8080/"
        },
        "id": "sd9kvGrZOflB",
        "outputId": "58db60cb-4dd8-4d6b-cd41-1431e10ab78f"
      },
      "execution_count": 35,
      "outputs": [
        {
          "output_type": "stream",
          "name": "stdout",
          "text": [
            "Enter the number of classes held.100\n",
            "Enter the number of classes attended.50\n",
            "Do you have a medical cause? (Y/N)Y\n",
            "The total class attended is 50.0 %\n",
            "You will be allowed to sit in exams due to your medical condition.\n"
          ]
        }
      ]
    }
  ]
}