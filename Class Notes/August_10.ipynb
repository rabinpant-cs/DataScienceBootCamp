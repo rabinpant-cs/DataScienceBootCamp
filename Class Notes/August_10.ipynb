{
  "nbformat": 4,
  "nbformat_minor": 0,
  "metadata": {
    "colab": {
      "provenance": []
    },
    "kernelspec": {
      "name": "python3",
      "display_name": "Python 3"
    },
    "language_info": {
      "name": "python"
    }
  },
  "cells": [
    {
      "cell_type": "code",
      "execution_count": 4,
      "metadata": {
        "colab": {
          "base_uri": "https://localhost:8080/"
        },
        "id": "0WxlJKbv3DbH",
        "outputId": "baec74ac-2968-49a9-c68e-f49cdadac58b"
      },
      "outputs": [
        {
          "output_type": "stream",
          "name": "stdout",
          "text": [
            "Peppa\n",
            "prefer\n",
            "Python\n",
            "Programming\n"
          ]
        }
      ],
      "source": [
        "str1 = \"Peppa prefer Python Programming\"\n",
        "\n",
        "print(str1[0:5])\n",
        "print(str1[6:12])\n",
        "print(str1[13:19])\n",
        "print(str1[20:31])"
      ]
    },
    {
      "cell_type": "code",
      "source": [
        "str1 = \"HelloHowAreYou\"\n",
        "\n",
        "print(str1[-1:-4:-1])\n",
        "print(str1[-4:-7:-1])\n",
        "print(str1[-7:-10:-1])\n",
        "print(str1[-10::-1])"
      ],
      "metadata": {
        "colab": {
          "base_uri": "https://localhost:8080/"
        },
        "id": "aL5UduMr_Qm2",
        "outputId": "6a02f41e-7733-4afd-c231-352ca96dc5c2"
      },
      "execution_count": 14,
      "outputs": [
        {
          "output_type": "stream",
          "name": "stdout",
          "text": [
            "uoY\n",
            "erA\n",
            "woH\n",
            "olleH\n"
          ]
        }
      ]
    },
    {
      "cell_type": "code",
      "source": [
        "str1 = 'VenkataNarasimhaRajuvaripeta'\n",
        "print(str1[-1:-13:-1])\n",
        "print(str1[-13:-22:-1])\n",
        "print(str1[-22::-1])"
      ],
      "metadata": {
        "colab": {
          "base_uri": "https://localhost:8080/"
        },
        "id": "y8PlAIXnAH40",
        "outputId": "a9766e29-1273-44b5-fad6-83f874b8bfca"
      },
      "execution_count": 16,
      "outputs": [
        {
          "output_type": "stream",
          "name": "stdout",
          "text": [
            "atepiravujaR\n",
            "ahmisaraN\n",
            "atakneV\n"
          ]
        }
      ]
    },
    {
      "cell_type": "code",
      "source": [
        "str1 = 'VenkataNarasimhaRajuvaripeta'\n",
        "print(str1[-12::])\n",
        "print(str1[-21:-12:])\n",
        "print(str1[-29:-21:])"
      ],
      "metadata": {
        "colab": {
          "base_uri": "https://localhost:8080/"
        },
        "id": "zbye8fiiLWO5",
        "outputId": "d98c4d28-96f9-4559-fc89-9c2dd33994bc"
      },
      "execution_count": 20,
      "outputs": [
        {
          "output_type": "stream",
          "name": "stdout",
          "text": [
            "Rajuvaripeta\n",
            "Narasimha\n",
            "Venkata\n"
          ]
        }
      ]
    },
    {
      "cell_type": "code",
      "source": [
        "lst1 = ['apple', 'banana', 'cherries', 'dates', 'eggfruit', 'fig', 'grapes', 'honeyfruit','icefruit']\n",
        "print(lst1)\n",
        "print(type(lst1))\n",
        "\n",
        "print(lst1[1:5:])\n",
        "print(lst1[-1:-3:-1])\n",
        "print(lst1[-9:-5:1])\n",
        "print(lst1[9:5:-1])"
      ],
      "metadata": {
        "colab": {
          "base_uri": "https://localhost:8080/"
        },
        "id": "Lcn_NOTgQOSt",
        "outputId": "6430d897-8ecc-4be3-91a8-ec6767fd67d0"
      },
      "execution_count": 32,
      "outputs": [
        {
          "output_type": "stream",
          "name": "stdout",
          "text": [
            "['apple', 'banana', 'cherries', 'dates', 'eggfruit', 'fig', 'grapes', 'honeyfruit', 'icefruit']\n",
            "<class 'list'>\n",
            "['banana', 'cherries', 'dates', 'eggfruit']\n",
            "['icefruit', 'honeyfruit']\n",
            "['apple', 'banana', 'cherries', 'dates']\n",
            "['icefruit', 'honeyfruit', 'grapes']\n"
          ]
        }
      ]
    },
    {
      "cell_type": "code",
      "source": [
        "tup1 = ('apple', 'banana', 'cherries', 'dates', 'eggfruit', 'fig', 'grapes', 'honeyfruit','icefruit')\n",
        "print(tup1)\n",
        "print(type(tup1))\n",
        "\n",
        "print(tup1[1:5:])\n",
        "print(tup1[3:1:-1])\n",
        "print(tup1[-9:-5:1])\n",
        "print(tup1[-5:-9:-1])"
      ],
      "metadata": {
        "colab": {
          "base_uri": "https://localhost:8080/"
        },
        "id": "UsfYWc0nQPUT",
        "outputId": "6219b6e0-2c87-42e6-f390-695252f8d298"
      },
      "execution_count": 35,
      "outputs": [
        {
          "output_type": "stream",
          "name": "stdout",
          "text": [
            "('apple', 'banana', 'cherries', 'dates', 'eggfruit', 'fig', 'grapes', 'honeyfruit', 'icefruit')\n",
            "<class 'tuple'>\n",
            "('banana', 'cherries', 'dates', 'eggfruit')\n",
            "('dates', 'cherries')\n",
            "('apple', 'banana', 'cherries', 'dates')\n",
            "('eggfruit', 'dates', 'cherries', 'banana')\n"
          ]
        }
      ]
    },
    {
      "cell_type": "code",
      "source": [
        "str1 = \"Hello WOrld\"\n",
        "print(str1.isupper())"
      ],
      "metadata": {
        "colab": {
          "base_uri": "https://localhost:8080/"
        },
        "id": "7qjH9If5WI9G",
        "outputId": "0acd7ddd-4202-4f36-814a-9373166fc137"
      },
      "execution_count": 36,
      "outputs": [
        {
          "output_type": "stream",
          "name": "stdout",
          "text": [
            "False\n"
          ]
        }
      ]
    },
    {
      "cell_type": "code",
      "source": [
        "lst1 = ['apple', 'banana', 'cherries', 'dates', 'eggfruit', 'fig', 'grapes', 'honeyfruit','icefruit']\n",
        "print(\"#\".join(lst1))\n"
      ],
      "metadata": {
        "colab": {
          "base_uri": "https://localhost:8080/"
        },
        "id": "Ax6R-Xt0hSjW",
        "outputId": "bd61d06e-8ed5-4594-81bb-1c1505ed2e8d"
      },
      "execution_count": 38,
      "outputs": [
        {
          "output_type": "stream",
          "name": "stdout",
          "text": [
            "apple#banana#cherries#dates#eggfruit#fig#grapes#honeyfruit#icefruit\n"
          ]
        }
      ]
    },
    {
      "cell_type": "code",
      "source": [
        "str1 = \"I needed to look for a room\"\n",
        "print(str1.partition(\"to\"))"
      ],
      "metadata": {
        "colab": {
          "base_uri": "https://localhost:8080/"
        },
        "id": "2zWzsP0Ij2zh",
        "outputId": "87c4f67f-979b-49a3-bea5-4489921e1217"
      },
      "execution_count": 40,
      "outputs": [
        {
          "output_type": "stream",
          "name": "stdout",
          "text": [
            "('I needed ', 'to', ' look for a room')\n"
          ]
        }
      ]
    }
  ]
}