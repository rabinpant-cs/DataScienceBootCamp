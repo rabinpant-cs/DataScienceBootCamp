{
  "nbformat": 4,
  "nbformat_minor": 0,
  "metadata": {
    "colab": {
      "provenance": []
    },
    "kernelspec": {
      "name": "python3",
      "display_name": "Python 3"
    },
    "language_info": {
      "name": "python"
    }
  },
  "cells": [
    {
      "cell_type": "code",
      "execution_count": null,
      "metadata": {
        "id": "gvC4PGOYE_PV"
      },
      "outputs": [],
      "source": [
        "## Basic Python Operators"
      ]
    },
    {
      "cell_type": "code",
      "source": [
        "# arithmetic operators\n",
        "\n",
        "a = 55\n",
        "b = 5\n",
        "\n",
        "print(a+b)\n",
        "print(a-b)\n",
        "print(a/b)\n",
        "print(a*b)\n",
        "print(a%b) #remainder\n",
        "print(a//b) #quotient\n",
        "print(a**b) #exponent"
      ],
      "metadata": {
        "colab": {
          "base_uri": "https://localhost:8080/"
        },
        "id": "Xl-aBz85FDxU",
        "outputId": "ec088082-68be-47d8-89c7-1f3551f7d1e7"
      },
      "execution_count": null,
      "outputs": [
        {
          "output_type": "stream",
          "name": "stdout",
          "text": [
            "60\n",
            "50\n",
            "11.0\n",
            "275\n",
            "0\n",
            "11\n",
            "503284375\n"
          ]
        }
      ]
    },
    {
      "cell_type": "code",
      "source": [
        "# comparision operators\n",
        "\n",
        "a = 55\n",
        "b = 50\n",
        "\n",
        "print(a == b)\n",
        "print(a != b)\n",
        "print(a > b)\n",
        "print(a < b)\n",
        "print(a >= b)\n",
        "print(a <=b )"
      ],
      "metadata": {
        "colab": {
          "base_uri": "https://localhost:8080/"
        },
        "id": "gKry4DySGmAw",
        "outputId": "66224345-7916-4187-cd3c-8fcbbab02a96"
      },
      "execution_count": null,
      "outputs": [
        {
          "output_type": "stream",
          "name": "stdout",
          "text": [
            "False\n",
            "True\n",
            "True\n",
            "False\n",
            "True\n",
            "False\n"
          ]
        }
      ]
    },
    {
      "cell_type": "code",
      "source": [
        "# Assignment Operator\n",
        "\n",
        "# a = a + b => a += b\n",
        "\n",
        "a = 100\n",
        "b = 20\n",
        "a += b\n",
        "print(a, b)\n",
        "\n",
        "\n",
        "\n",
        "a = 100\n",
        "b = 20\n",
        "a -= b\n",
        "print(a, b)\n",
        "\n",
        "\n",
        "\n",
        "a = 100\n",
        "b = 20\n",
        "a *= b\n",
        "print(a, b)\n",
        "\n",
        "\n",
        "a = 100\n",
        "b = 20\n",
        "a /= b\n",
        "print(a, b)\n",
        "\n",
        "\n",
        "a = 100\n",
        "b = 20\n",
        "a %= b\n",
        "print(a, b)\n",
        "\n",
        "\n",
        "a = 100\n",
        "b = 20\n",
        "a //= b\n",
        "print(a, b)\n",
        "\n",
        "\n",
        "a = 100\n",
        "b = 20\n",
        "a **= b\n",
        "print(a, b)"
      ],
      "metadata": {
        "colab": {
          "base_uri": "https://localhost:8080/"
        },
        "id": "iQS3yPsgIWTg",
        "outputId": "7f7da172-d8a2-453e-806a-81ba29223ed6"
      },
      "execution_count": null,
      "outputs": [
        {
          "output_type": "stream",
          "name": "stdout",
          "text": [
            "120 20\n",
            "80 20\n",
            "2000 20\n",
            "5.0 20\n",
            "0 20\n",
            "5 20\n",
            "10000000000000000000000000000000000000000 20\n"
          ]
        }
      ]
    },
    {
      "cell_type": "code",
      "source": [
        "# Python Logical Operators\n",
        "\n",
        "\n",
        "a = 100\n",
        "b = 20\n",
        "\n",
        "\n",
        "print(a > 80 and b < 80)\n",
        "print(a == 80 and b < 80)\n",
        "print(a < 80 and b < 80)\n",
        "print(a > 80 and b > 80)\n",
        "\n",
        "\n",
        "print(a > 80 or b < 80)\n",
        "print(a == 80 or b < 80)\n",
        "print(a < 80 or b < 80)\n",
        "print(a < 80 or b > 80)"
      ],
      "metadata": {
        "colab": {
          "base_uri": "https://localhost:8080/"
        },
        "id": "SjO4U1h3MyAi",
        "outputId": "32b0088f-b354-47fb-d85c-7349fe3f61e0"
      },
      "execution_count": null,
      "outputs": [
        {
          "output_type": "stream",
          "name": "stdout",
          "text": [
            "True\n",
            "False\n",
            "False\n",
            "False\n",
            "True\n",
            "True\n",
            "True\n",
            "False\n"
          ]
        }
      ]
    },
    {
      "cell_type": "code",
      "source": [
        "# Python Membership Operators\n",
        "\n",
        "a = 100\n",
        "b = [100,200,300,400,500]\n",
        "\n",
        "a in b\n",
        "\n",
        "# Python Membership Operators\n",
        "\n",
        "a = 600\n",
        "b = [100,200,300,400,500]\n",
        "\n",
        "a in b\n",
        "\n",
        "# Python Membership Operators\n",
        "\n",
        "a = 100\n",
        "b = [100,200,300,400,500]\n",
        "\n",
        "a not in b\n",
        "\n",
        "# Python Membership Operators\n",
        "\n",
        "a = 600\n",
        "b = [100,200,300,400,500]\n",
        "\n",
        "a not in b"
      ],
      "metadata": {
        "colab": {
          "base_uri": "https://localhost:8080/"
        },
        "id": "mb5Ba_YtM2f6",
        "outputId": "21c279fb-a6df-44ec-8c72-a9e7434bb2b9"
      },
      "execution_count": null,
      "outputs": [
        {
          "output_type": "execute_result",
          "data": {
            "text/plain": [
              "True"
            ]
          },
          "metadata": {},
          "execution_count": 12
        }
      ]
    },
    {
      "cell_type": "code",
      "source": [
        "# Python Identity Operators\n",
        "\n",
        "\n",
        "a = 100\n",
        "b = 20\n",
        "\n",
        "a is b\n",
        "a is not b\n",
        "\n",
        "a = 100\n",
        "b = 100\n",
        "\n",
        "a is b\n",
        "a is not b"
      ],
      "metadata": {
        "colab": {
          "base_uri": "https://localhost:8080/"
        },
        "id": "gu_kYjKBN-NH",
        "outputId": "c24cc344-53a3-4dd6-dd6c-668b8530a5d4"
      },
      "execution_count": null,
      "outputs": [
        {
          "output_type": "execute_result",
          "data": {
            "text/plain": [
              "False"
            ]
          },
          "metadata": {},
          "execution_count": 13
        }
      ]
    },
    {
      "cell_type": "code",
      "source": [
        "#\n",
        "\n",
        "# 1) check if a number is divisible by 7 or not\n",
        "\n",
        "a = 35\n",
        "if a%7 == 0:\n",
        "  print(\"It is divisible.\")\n",
        "else:\n",
        "  print(\"It is not divisible.\")\n",
        "\n",
        "a = 55\n",
        "if a%7 == 0:\n",
        "  print(\"It is divisible.\")\n",
        "else:\n",
        "  print(\"It is not divisible.\")\n",
        "\n",
        "# 2) Write a program to print hello if number is multiple of five or 3 else print bye\n",
        "\n",
        "a = 15\n",
        "\n",
        "if a%5 == 0 and a%3 == 0:\n",
        "  print(\"Hello\")\n",
        "else:\n",
        "  print(\"Bye\")\n",
        "\n",
        "a = 55\n",
        "\n",
        "if a%5 == 0 and a%3 == 0:\n",
        "  print(\"Hello\")\n",
        "else:\n",
        "  print(\"Bye\")"
      ],
      "metadata": {
        "colab": {
          "base_uri": "https://localhost:8080/"
        },
        "id": "CvBwXQVbmsGn",
        "outputId": "f49f809f-9e01-4373-ff10-4da687311c50"
      },
      "execution_count": null,
      "outputs": [
        {
          "output_type": "stream",
          "name": "stdout",
          "text": [
            "It is divisible.\n",
            "It is not divisible.\n",
            "Hello\n",
            "Bye\n"
          ]
        }
      ]
    },
    {
      "cell_type": "code",
      "source": [
        "# Write a python program that will check for the following conditions:\n",
        "\n",
        "# If the light is green – Car is allowed to go\n",
        "# If the light is yellow – Car has to wait\n",
        "# If the light is red – Car has to stop\n",
        "# Other signal – unrecognized signal. Example black, blue, etc…\n",
        "\n",
        "light = input(\"Enter the light\")\n",
        "\n",
        "if light == \"Green\":\n",
        "  print(\"Go\")\n",
        "elif light == \"Yellow\":\n",
        "  print(\"Wait\")\n",
        "elif light == \"Red\":\n",
        "  print(\"Stop\")\n",
        "\n"
      ],
      "metadata": {
        "colab": {
          "base_uri": "https://localhost:8080/"
        },
        "id": "3uO2sUoa0led",
        "outputId": "d9eea984-16ac-4d03-d872-e6ea9bbd7ad2"
      },
      "execution_count": null,
      "outputs": [
        {
          "output_type": "stream",
          "name": "stdout",
          "text": [
            "Enter the lightYellow\n",
            "Wait\n"
          ]
        }
      ]
    },
    {
      "cell_type": "code",
      "source": [
        "from ast import Num\n",
        "# Write a program to trace your subject mark. Your program should fulfill the following conditions:\n",
        "\n",
        "# If the subject mark is below 0 and above 100, print “error: mark should be between 0 and 100 only”\n",
        "# Students will fail in the subject if their mark is below 50.\n",
        "# Students will pass in the subject if they score 50 and above.\n",
        "# If subject mark is between 50 and 60, grade student as good.\n",
        "# If subject mark is between 60 and 80, grade student as very good.\n",
        "# If subject mark is between 80 and 100, grade student as outstanding.\n",
        "\n",
        "# Make sure to print their mark in every statement to prove that the condition is fulfilled. Moreover, name, class, and section should be also displayed along with the marks.\n",
        "\n",
        "name = input(\"Enter your name: \")\n",
        "class1 = input(\"Enter your grade: \")\n",
        "section = input(\"Enter your section: \")\n",
        "mark = input(\"Enter the marks\")\n",
        "marks = float(mark)\n",
        "\n",
        "print(\"Hello, \" + name + \" of section \" + section)\n",
        "print(\" \")\n",
        "\n",
        "if marks < 0 and marks > 100:\n",
        "  print(\"error: mark should be between 0 and 100 only\")\n",
        "elif marks < 50:\n",
        "  print(\"You have failed as your marks is less than 50.\")\n",
        "elif marks > 50 and marks < 60:\n",
        "  print(\"Grade: Good. Marks: \"+ str(marks))\n",
        "elif marks > 60 and marks < 80:\n",
        "  print(\"Grade: Very Good. Marks: \"+ str(marks))\n",
        "elif marks > 80 and marks < 100:\n",
        "  print(\"Grade: Outstanding.\")\n",
        "  print(\"Marks: \"+ str(marks))\n",
        "\n",
        "\n",
        "\n"
      ],
      "metadata": {
        "colab": {
          "base_uri": "https://localhost:8080/"
        },
        "id": "gMQiF8Pj0l8I",
        "outputId": "a732fe8f-744d-4677-eb16-1dea26f9eb16"
      },
      "execution_count": null,
      "outputs": [
        {
          "output_type": "stream",
          "name": "stdout",
          "text": [
            "Enter your name: Rabin\n",
            "Enter your grade: 10\n",
            "Enter your section: C\n",
            "Enter the marks55\n",
            "Hello, Rabin of section C\n",
            " \n",
            "Grade: Good. Marks: 55.0\n"
          ]
        }
      ]
    }
  ]
}