{
  "nbformat": 4,
  "nbformat_minor": 0,
  "metadata": {
    "colab": {
      "provenance": []
    },
    "kernelspec": {
      "name": "python3",
      "display_name": "Python 3"
    },
    "language_info": {
      "name": "python"
    }
  },
  "cells": [
    {
      "cell_type": "code",
      "execution_count": 1,
      "metadata": {
        "colab": {
          "base_uri": "https://localhost:8080/"
        },
        "id": "_RgKMb2rfmGm",
        "outputId": "e0fdf6fe-8db1-435a-db29-04f12a4ae32c"
      },
      "outputs": [
        {
          "output_type": "stream",
          "name": "stdout",
          "text": [
            "if (a < 200):\n",
            "if (a < 175):\n",
            "if (a < 150):\n",
            "elif (a > 100):\n"
          ]
        }
      ],
      "source": [
        "# Nested If\n",
        "\n",
        "a = 123\n",
        "\n",
        "if (a < 200):\n",
        "  print(\"if (a < 200):\")\n",
        "  if (a < 175):\n",
        "    print(\"if (a < 175):\")\n",
        "    if (a < 150):\n",
        "      print(\"if (a < 150):\")\n",
        "      if (a < 100):\n",
        "        print(\"if (a < 100):\")\n",
        "        if (a < 75):\n",
        "          print(\"if (a < 75):\")\n",
        "        else:\n",
        "          print(\"elif (a > 75):\")\n",
        "      else:\n",
        "        print(\"elif (a > 100):\")\n",
        "    else:\n",
        "      print(\"elif (a > 150):\")\n",
        "  else:\n",
        "    print(\"elif (a > 175):\")\n",
        "else:\n",
        "  print(\"elif (a > 200):\")"
      ]
    },
    {
      "cell_type": "code",
      "source": [
        "a = 50\n",
        "\n",
        "while a < 500:\n",
        "  print(a, \"is less than 500.\")\n",
        "  a += 50"
      ],
      "metadata": {
        "colab": {
          "base_uri": "https://localhost:8080/"
        },
        "id": "ETfz1GK8i3Nv",
        "outputId": "4d8dd030-4b7a-49da-992d-b2cb8d9bfc33"
      },
      "execution_count": 3,
      "outputs": [
        {
          "output_type": "stream",
          "name": "stdout",
          "text": [
            "50 is less than 500.\n",
            "100 is less than 500.\n",
            "150 is less than 500.\n",
            "200 is less than 500.\n",
            "250 is less than 500.\n",
            "300 is less than 500.\n",
            "350 is less than 500.\n",
            "400 is less than 500.\n",
            "450 is less than 500.\n"
          ]
        }
      ]
    },
    {
      "cell_type": "code",
      "source": [
        "a = 0\n",
        "even = []\n",
        "odd = []\n",
        "\n",
        "while a <= 100:\n",
        "  if a % 2 == 0:\n",
        "    even.append(a)\n",
        "  else:\n",
        "    odd.append(a)\n",
        "  a +=1\n",
        "\n",
        "print(\"Even: \", even)\n",
        "print(\"Odd: \", odd)"
      ],
      "metadata": {
        "colab": {
          "base_uri": "https://localhost:8080/"
        },
        "id": "RnvpMG_1sEDG",
        "outputId": "af1478dc-0814-4b3b-8441-7002971a401e"
      },
      "execution_count": 7,
      "outputs": [
        {
          "output_type": "stream",
          "name": "stdout",
          "text": [
            "Even:  [0, 2, 4, 6, 8, 10, 12, 14, 16, 18, 20, 22, 24, 26, 28, 30, 32, 34, 36, 38, 40, 42, 44, 46, 48, 50, 52, 54, 56, 58, 60, 62, 64, 66, 68, 70, 72, 74, 76, 78, 80, 82, 84, 86, 88, 90, 92, 94, 96, 98, 100]\n",
            "Odd:  [1, 3, 5, 7, 9, 11, 13, 15, 17, 19, 21, 23, 25, 27, 29, 31, 33, 35, 37, 39, 41, 43, 45, 47, 49, 51, 53, 55, 57, 59, 61, 63, 65, 67, 69, 71, 73, 75, 77, 79, 81, 83, 85, 87, 89, 91, 93, 95, 97, 99]\n"
          ]
        }
      ]
    },
    {
      "cell_type": "code",
      "source": [
        "total = 0\n",
        "\n",
        "age = int(input(\"Enter the age: \"))\n",
        "\n",
        "while age >= 18:\n",
        "  total +=1\n",
        "  age = int(input(\"Enter the age: \"))\n",
        "\n",
        "print(total)"
      ],
      "metadata": {
        "colab": {
          "base_uri": "https://localhost:8080/"
        },
        "id": "i4E94rsxsZSs",
        "outputId": "34c95ae3-02ed-4dcb-e5f6-66055a25f625"
      },
      "execution_count": 10,
      "outputs": [
        {
          "output_type": "stream",
          "name": "stdout",
          "text": [
            "Enter the age: 25\n",
            "Enter the age: 24\n",
            "Enter the age: 23\n",
            "Enter the age: 22\n",
            "Enter the age: 21\n",
            "Enter the age: 20\n",
            "Enter the age: 19\n",
            "Enter the age: 18\n",
            "Enter the age: 17\n",
            "8\n"
          ]
        }
      ]
    },
    {
      "cell_type": "code",
      "source": [
        "lst1 = [1,2,3,4,5,6,7,8,9,10,11,22,33,44,55,66,77,88,99,110,12,23,34,45,56,67,78,89,90]\n",
        "\n",
        "while lst1:\n",
        "  lst1.pop()\n",
        "\n",
        "print(lst1)"
      ],
      "metadata": {
        "colab": {
          "base_uri": "https://localhost:8080/"
        },
        "id": "YuN05EB22JEJ",
        "outputId": "e60568a9-49de-44dc-9a4f-925f6d0f98ad"
      },
      "execution_count": 12,
      "outputs": [
        {
          "output_type": "stream",
          "name": "stdout",
          "text": [
            "[]\n"
          ]
        }
      ]
    },
    {
      "cell_type": "code",
      "source": [
        "num1 = int(input(\"Enter a number\"))\n",
        "\n",
        "while (num1%5 == 0) and (num1%7==0):\n",
        "  print(num1, \"is divisible by 5 and 7\")\n",
        "  break\n",
        "else:\n",
        "  print(num1, \"is not divisible by 5 and 7\")"
      ],
      "metadata": {
        "colab": {
          "base_uri": "https://localhost:8080/"
        },
        "id": "cuQ36VfZ5r9T",
        "outputId": "b5d9bf42-7550-47b3-9ee1-304ce98948ab"
      },
      "execution_count": 14,
      "outputs": [
        {
          "output_type": "stream",
          "name": "stdout",
          "text": [
            "Enter a number80\n",
            "80 is not divisible by 5 and 7\n"
          ]
        }
      ]
    }
  ]
}