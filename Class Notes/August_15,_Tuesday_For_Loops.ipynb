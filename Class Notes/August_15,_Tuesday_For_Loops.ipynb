{
  "nbformat": 4,
  "nbformat_minor": 0,
  "metadata": {
    "colab": {
      "provenance": []
    },
    "kernelspec": {
      "name": "python3",
      "display_name": "Python 3"
    },
    "language_info": {
      "name": "python"
    }
  },
  "cells": [
    {
      "cell_type": "code",
      "execution_count": 1,
      "metadata": {
        "colab": {
          "base_uri": "https://localhost:8080/"
        },
        "id": "mr4SHDPVogdQ",
        "outputId": "694f3537-f727-4eff-d092-c63455098174"
      },
      "outputs": [
        {
          "output_type": "stream",
          "name": "stdout",
          "text": [
            "The element in list is 1\n",
            "The element in list is 11\n",
            "The element in list is 21\n",
            "The element in list is 31\n",
            "The element in list is 41\n",
            "The element in list is 51\n",
            "The element in list is 61\n",
            "The element in list is 71\n",
            "The element in list is 81\n",
            "The element in list is 91\n"
          ]
        }
      ],
      "source": [
        "lst1 = (1,11,21,31,41,51,61,71,81,91)\n",
        "\n",
        "for i in lst1:\n",
        "  print(\"The element in list is\", i)"
      ]
    },
    {
      "cell_type": "code",
      "source": [
        "tup1 = (\"apple\", \"orange\", \"mango\", \"banana\")\n",
        "\n",
        "for i in tup1:\n",
        "  print(\"The elemenet in list is\", i)"
      ],
      "metadata": {
        "colab": {
          "base_uri": "https://localhost:8080/"
        },
        "id": "xyP2smG2s77M",
        "outputId": "0c163387-f223-48cd-d3e6-e3b4f3de3fef"
      },
      "execution_count": 2,
      "outputs": [
        {
          "output_type": "stream",
          "name": "stdout",
          "text": [
            "The elemenet in list is apple\n",
            "The elemenet in list is orange\n",
            "The elemenet in list is mango\n",
            "The elemenet in list is banana\n"
          ]
        }
      ]
    },
    {
      "cell_type": "code",
      "source": [
        "set1 = {\"apple\", \"orange\", \"mango\", \"banana\",1,11,21,31,41,51,61,71,81,91, \"apple\", \"orange\", \"mango\", \"banana\"}\n",
        "\n",
        "for i in set1:\n",
        "  print(\"The element is\", i)"
      ],
      "metadata": {
        "colab": {
          "base_uri": "https://localhost:8080/"
        },
        "id": "Apk7B79FtM6S",
        "outputId": "64a60f70-34fb-4ba8-ffe2-d574cad2468b"
      },
      "execution_count": 6,
      "outputs": [
        {
          "output_type": "stream",
          "name": "stdout",
          "text": [
            "The element is banana\n",
            "The element is 1\n",
            "The element is apple\n",
            "The element is 71\n",
            "The element is 41\n",
            "The element is 11\n",
            "The element is 81\n",
            "The element is mango\n",
            "The element is 51\n",
            "The element is orange\n",
            "The element is 21\n",
            "The element is 91\n",
            "The element is 61\n",
            "The element is 31\n"
          ]
        }
      ]
    },
    {
      "cell_type": "code",
      "source": [
        "str1 = \"Pappa Peppe Python Programming\"\n",
        "\n",
        "for i in str1:\n",
        "  print(\"The element is\", i)"
      ],
      "metadata": {
        "colab": {
          "base_uri": "https://localhost:8080/"
        },
        "id": "clkaIzbXtnny",
        "outputId": "906d9ae0-639e-4ef0-d5f4-e76f4a0cb7cb"
      },
      "execution_count": 7,
      "outputs": [
        {
          "output_type": "stream",
          "name": "stdout",
          "text": [
            "The element is P\n",
            "The element is a\n",
            "The element is p\n",
            "The element is p\n",
            "The element is a\n",
            "The element is  \n",
            "The element is P\n",
            "The element is e\n",
            "The element is p\n",
            "The element is p\n",
            "The element is e\n",
            "The element is  \n",
            "The element is P\n",
            "The element is y\n",
            "The element is t\n",
            "The element is h\n",
            "The element is o\n",
            "The element is n\n",
            "The element is  \n",
            "The element is P\n",
            "The element is r\n",
            "The element is o\n",
            "The element is g\n",
            "The element is r\n",
            "The element is a\n",
            "The element is m\n",
            "The element is m\n",
            "The element is i\n",
            "The element is n\n",
            "The element is g\n"
          ]
        }
      ]
    },
    {
      "cell_type": "code",
      "source": [
        "dict1 = {'a':\"apple\", 'b': \"banana\", 'c':\"cherry\", 'd':'donkey'}\n",
        "\n",
        "for i in dict1:\n",
        "  print(\"The elements are:\", i)"
      ],
      "metadata": {
        "colab": {
          "base_uri": "https://localhost:8080/"
        },
        "id": "MunlUdvZtv48",
        "outputId": "3590a387-90cc-4b3c-aba3-6f69753cf8a9"
      },
      "execution_count": 8,
      "outputs": [
        {
          "output_type": "stream",
          "name": "stdout",
          "text": [
            "The elements are: a\n",
            "The elements are: b\n",
            "The elements are: c\n",
            "The elements are: d\n"
          ]
        }
      ]
    },
    {
      "cell_type": "code",
      "source": [
        "for i in range(12):\n",
        "  print(\"The elements are:\", i)"
      ],
      "metadata": {
        "colab": {
          "base_uri": "https://localhost:8080/"
        },
        "id": "aSk2T2gfuHP2",
        "outputId": "3b7af204-99d4-4ca7-a6bd-6c5f1312fc38"
      },
      "execution_count": 9,
      "outputs": [
        {
          "output_type": "stream",
          "name": "stdout",
          "text": [
            "The elements are: 0\n",
            "The elements are: 1\n",
            "The elements are: 2\n",
            "The elements are: 3\n",
            "The elements are: 4\n",
            "The elements are: 5\n",
            "The elements are: 6\n",
            "The elements are: 7\n",
            "The elements are: 8\n",
            "The elements are: 9\n",
            "The elements are: 10\n",
            "The elements are: 11\n"
          ]
        }
      ]
    },
    {
      "cell_type": "code",
      "source": [
        "for i in range(5,15):\n",
        "  print(i)"
      ],
      "metadata": {
        "colab": {
          "base_uri": "https://localhost:8080/"
        },
        "id": "fU8wvnlTuRKW",
        "outputId": "bce34a09-7c2c-49c6-f6eb-c26cf1e5bba1"
      },
      "execution_count": 10,
      "outputs": [
        {
          "output_type": "stream",
          "name": "stdout",
          "text": [
            "5\n",
            "6\n",
            "7\n",
            "8\n",
            "9\n",
            "10\n",
            "11\n",
            "12\n",
            "13\n",
            "14\n"
          ]
        }
      ]
    },
    {
      "cell_type": "code",
      "source": [
        "for i in range(1,12,2):\n",
        "  print(\"The range is\", i)"
      ],
      "metadata": {
        "colab": {
          "base_uri": "https://localhost:8080/"
        },
        "id": "nOjdm3ajud7a",
        "outputId": "1a7de8e2-1911-46a7-e3cc-7bbe344e7f93"
      },
      "execution_count": 12,
      "outputs": [
        {
          "output_type": "stream",
          "name": "stdout",
          "text": [
            "The range is 1\n",
            "The range is 3\n",
            "The range is 5\n",
            "The range is 7\n",
            "The range is 9\n",
            "The range is 11\n"
          ]
        }
      ]
    },
    {
      "cell_type": "code",
      "source": [
        "for i in range(0,10):\n",
        "  for j in range(0,10):\n",
        "    print(j, end = \" \")\n",
        "  print('\\r')"
      ],
      "metadata": {
        "colab": {
          "base_uri": "https://localhost:8080/"
        },
        "id": "_2F6P8VHxivg",
        "outputId": "84b307f2-288b-4594-a1d2-c92a67675873"
      },
      "execution_count": 15,
      "outputs": [
        {
          "output_type": "stream",
          "name": "stdout",
          "text": [
            "0 1 2 3 4 5 6 7 8 9 \r\n",
            "0 1 2 3 4 5 6 7 8 9 \r\n",
            "0 1 2 3 4 5 6 7 8 9 \r\n",
            "0 1 2 3 4 5 6 7 8 9 \r\n",
            "0 1 2 3 4 5 6 7 8 9 \r\n",
            "0 1 2 3 4 5 6 7 8 9 \r\n",
            "0 1 2 3 4 5 6 7 8 9 \r\n",
            "0 1 2 3 4 5 6 7 8 9 \r\n",
            "0 1 2 3 4 5 6 7 8 9 \r\n",
            "0 1 2 3 4 5 6 7 8 9 \r\n"
          ]
        }
      ]
    },
    {
      "cell_type": "code",
      "source": [
        "for i in range(10):\n",
        "  for j in range(0,10-i):\n",
        "    print(\" \", end =\"\")\n",
        "  for k in range(0,i+1):\n",
        "    print(\"*\", end = \" \")\n",
        "  print('\\r')"
      ],
      "metadata": {
        "colab": {
          "base_uri": "https://localhost:8080/"
        },
        "id": "k3bogJCj1Yjo",
        "outputId": "97ee915f-9b8a-4ef9-f5aa-d20231ff0cbf"
      },
      "execution_count": 21,
      "outputs": [
        {
          "output_type": "stream",
          "name": "stdout",
          "text": [
            "          * \r\n",
            "         * * \r\n",
            "        * * * \r\n",
            "       * * * * \r\n",
            "      * * * * * \r\n",
            "     * * * * * * \r\n",
            "    * * * * * * * \r\n",
            "   * * * * * * * * \r\n",
            "  * * * * * * * * * \r\n",
            " * * * * * * * * * * \r\n"
          ]
        }
      ]
    },
    {
      "cell_type": "code",
      "source": [
        "for i in range(10):\n",
        "  for j in range(0,10-i):\n",
        "    print(\" \", end =\"\")\n",
        "  for k in range(i+1):\n",
        "    print(\"*\", end =\" \")\n",
        "  print('\\r')"
      ],
      "metadata": {
        "colab": {
          "base_uri": "https://localhost:8080/"
        },
        "id": "cZebP0VJ1DJs",
        "outputId": "6031119f-ed72-466d-9a74-df085c09f59a"
      },
      "execution_count": 9,
      "outputs": [
        {
          "output_type": "stream",
          "name": "stdout",
          "text": [
            "          * \r\n",
            "         * * \r\n",
            "        * * * \r\n",
            "       * * * * \r\n",
            "      * * * * * \r\n",
            "     * * * * * * \r\n",
            "    * * * * * * * \r\n",
            "   * * * * * * * * \r\n",
            "  * * * * * * * * * \r\n",
            " * * * * * * * * * * \r\n"
          ]
        }
      ]
    },
    {
      "cell_type": "code",
      "source": [
        "for i in range(10):\n",
        "  for j in range(0,i):\n",
        "    print(\"\", end = \" \")\n",
        "  for k in range(10,i,-1):\n",
        "    print(\"*\", end = \" \")\n",
        "  print('\\r')"
      ],
      "metadata": {
        "colab": {
          "base_uri": "https://localhost:8080/"
        },
        "id": "jGdqpHut58kA",
        "outputId": "26483994-484b-4fce-e785-a7b9e40b883e"
      },
      "execution_count": 35,
      "outputs": [
        {
          "output_type": "stream",
          "name": "stdout",
          "text": [
            "* * * * * * * * * * \r\n",
            " * * * * * * * * * \r\n",
            "  * * * * * * * * \r\n",
            "   * * * * * * * \r\n",
            "    * * * * * * \r\n",
            "     * * * * * \r\n",
            "      * * * * \r\n",
            "       * * * \r\n",
            "        * * \r\n",
            "         * \r\n"
          ]
        }
      ]
    },
    {
      "cell_type": "code",
      "source": [
        "for i in range(10):\n",
        "  for j in range(0,i+1):\n",
        "    print(\" \", end = \"\")\n",
        "  for k in range(10,i,-1):\n",
        "    print(\"*\", end = \" \")\n",
        "  print('\\r')\n",
        "for i in range(1,10):\n",
        "  for j in range(0,10-i):\n",
        "    print(\" \", end =\"\")\n",
        "  for k in range(0,i+1):\n",
        "    print(\"*\", end = \" \")\n",
        "  print('\\r')"
      ],
      "metadata": {
        "colab": {
          "base_uri": "https://localhost:8080/"
        },
        "id": "UCkRUHmp8QMr",
        "outputId": "ccbe2c88-1c27-4a35-a941-ea80cc19842f"
      },
      "execution_count": 46,
      "outputs": [
        {
          "output_type": "stream",
          "name": "stdout",
          "text": [
            " * * * * * * * * * * \r\n",
            "  * * * * * * * * * \r\n",
            "   * * * * * * * * \r\n",
            "    * * * * * * * \r\n",
            "     * * * * * * \r\n",
            "      * * * * * \r\n",
            "       * * * * \r\n",
            "        * * * \r\n",
            "         * * \r\n",
            "          * \r\n",
            "         * * \r\n",
            "        * * * \r\n",
            "       * * * * \r\n",
            "      * * * * * \r\n",
            "     * * * * * * \r\n",
            "    * * * * * * * \r\n",
            "   * * * * * * * * \r\n",
            "  * * * * * * * * * \r\n",
            " * * * * * * * * * * \r\n"
          ]
        }
      ]
    }
  ]
}