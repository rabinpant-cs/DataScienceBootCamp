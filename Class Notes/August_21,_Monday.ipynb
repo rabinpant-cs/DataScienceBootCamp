{
  "nbformat": 4,
  "nbformat_minor": 0,
  "metadata": {
    "colab": {
      "provenance": []
    },
    "kernelspec": {
      "name": "python3",
      "display_name": "Python 3"
    },
    "language_info": {
      "name": "python"
    }
  },
  "cells": [
    {
      "cell_type": "code",
      "execution_count": null,
      "metadata": {
        "colab": {
          "base_uri": "https://localhost:8080/"
        },
        "id": "rTCgW2jvohR2",
        "outputId": "af73f2ac-a015-45d4-ec0c-6753ada27f9a"
      },
      "outputs": [
        {
          "output_type": "stream",
          "name": "stdout",
          "text": [
            "<class 'type'>\n"
          ]
        }
      ],
      "source": [
        "class trial:\n",
        "  def __init__(self, fname, lname, gender, email, contact):\n",
        "    pass\n",
        "\n",
        "print(type(trial))"
      ]
    },
    {
      "cell_type": "code",
      "source": [
        "obj1 = trial('kin', 'Anto', 'm', 'kin.anto@firstmail.com', 9876)"
      ],
      "metadata": {
        "id": "STN-zW3kqjr1"
      },
      "execution_count": null,
      "outputs": []
    },
    {
      "cell_type": "code",
      "source": [
        "class university_student:\n",
        "  def __init__(self, fname, lname, gender, email, contact):\n",
        "\n",
        "    self.fname = fname\n",
        "    self.lname = lname\n",
        "    self.gender = gender\n",
        "    self.email = email\n",
        "    self.contact = contact\n",
        "    print(self.fname, self.lname, self.gender, self.email, self.contact)"
      ],
      "metadata": {
        "id": "Gy_tOZGFr_E0"
      },
      "execution_count": null,
      "outputs": []
    },
    {
      "cell_type": "code",
      "source": [
        "obj1 = university_student('kin', 'Anto', 'm', 'kin.anto@firstmail.com', 9876)"
      ],
      "metadata": {
        "colab": {
          "base_uri": "https://localhost:8080/"
        },
        "id": "wbjRIiPIsytR",
        "outputId": "46af06b6-219b-4758-8d90-025f039bd918"
      },
      "execution_count": null,
      "outputs": [
        {
          "output_type": "stream",
          "name": "stdout",
          "text": [
            "kin Anto m kin.anto@firstmail.com 9876\n"
          ]
        }
      ]
    },
    {
      "cell_type": "code",
      "source": [
        "class car:\n",
        "  def __init__(self, name, model, fuel, cc, cylinders):\n",
        "    self.name = name\n",
        "    self.model = model\n",
        "    self.fuel = fuel\n",
        "    self.cc = cc\n",
        "    self.cylinders = cylinders\n",
        "\n",
        "  def car_details(self):\n",
        "    print(self.name, self.model, self.fuel, self.cc, self.cylinders)"
      ],
      "metadata": {
        "id": "Bb6kKUGZ2UBb"
      },
      "execution_count": 15,
      "outputs": []
    },
    {
      "cell_type": "code",
      "source": [
        "carobject = car('Maybach', 'Mercedes', '16G', 750, 6)"
      ],
      "metadata": {
        "id": "yxFhyLnN23T9"
      },
      "execution_count": 19,
      "outputs": []
    },
    {
      "cell_type": "code",
      "source": [
        "## hyphen sepatated sorting\n",
        "\n",
        "def sort_string(words_str):\n",
        "  words_list=words_str.split('-')\n",
        "  sorted_list = sorted(words_list)\n",
        "  final_list = \"-\".join(sorted_list)\n",
        "  print(final_list)\n",
        "\n",
        "sort_string(\"green-blue-yellow-red-black-white-pink-purple\")\n",
        "\n",
        "\n",
        "\n"
      ],
      "metadata": {
        "colab": {
          "base_uri": "https://localhost:8080/"
        },
        "id": "iGdCpsuoGof8",
        "outputId": "cf201923-dd89-4043-9a93-ca149b60b0cd"
      },
      "execution_count": 4,
      "outputs": [
        {
          "output_type": "stream",
          "name": "stdout",
          "text": [
            "black-blue-green-pink-purple-red-white-yellow\n"
          ]
        }
      ]
    },
    {
      "cell_type": "code",
      "source": [
        "the_words = input(\"Enter a word: \")\n",
        "the_word = the_words.lower()\n",
        "vowel = 0\n",
        "consonants = 0\n",
        "\n",
        "for i in the_word:\n",
        "  if i == 'a' or i == 'e' or i == 'i' or i == 'o' or i == 'u':\n",
        "    vowel += 1\n",
        "  else:\n",
        "    consonants += 1\n",
        "\n",
        "print(\"Vowels:\", vowel, \"Consonants:\", consonants )"
      ],
      "metadata": {
        "colab": {
          "base_uri": "https://localhost:8080/"
        },
        "id": "vem1KI2zNGOw",
        "outputId": "d5129c78-786e-46f0-e493-1d7cb79b0769"
      },
      "execution_count": 4,
      "outputs": [
        {
          "output_type": "stream",
          "name": "stdout",
          "text": [
            "Enter a word: America\n",
            "Vowels: 4 Consonants: 3\n"
          ]
        }
      ]
    },
    {
      "cell_type": "code",
      "source": [
        "num = int(input(\"Enter a number: \"))\n",
        "sum = 0\n",
        "\n",
        "for i in range(1,num):\n",
        "  if num%i == 0:\n",
        "    sum += i\n",
        "\n",
        "if (sum == num):\n",
        "  print(\"It's a perfect number\")\n",
        "else:\n",
        "  print(\"It's not a perfect number\")"
      ],
      "metadata": {
        "colab": {
          "base_uri": "https://localhost:8080/"
        },
        "id": "1JoE4C40RQBP",
        "outputId": "eaca882c-703a-4197-e7a2-bb0b87c63be4"
      },
      "execution_count": 9,
      "outputs": [
        {
          "output_type": "stream",
          "name": "stdout",
          "text": [
            "Enter a number: 454\n",
            "It's not a perfect number\n"
          ]
        }
      ]
    },
    {
      "cell_type": "code",
      "source": [
        "#4 print twin primes less than 1000.\n",
        "\n",
        "n=int(input(\"Enter the Max Range: \"))\n",
        "for k in range (3,n,2):\n",
        ""
      ],
      "metadata": {
        "id": "OOe8tKC-Z3AA"
      },
      "execution_count": null,
      "outputs": []
    },
    {
      "cell_type": "code",
      "source": [
        "#5\n",
        "n = int(input(\"Enter the number for prime factorization: \"))\n",
        "\n",
        "def prime_factors(num):\n",
        "  factors = []\n",
        "  divisor = 2\n",
        "  while num>1:\n",
        "    print(num, divisor)\n",
        "    while num%divisor ==0:\n",
        "      num=num/divisor\n",
        "      factors.append(str(divisor))\n",
        "    divisor +=1\n",
        "  return factors\n",
        "\n",
        "def show_prime_factorization(n):\n",
        "  factors = prime_factors(n)\n",
        "  return \"x\".join(factors)\n",
        "\n",
        "show_prime_factorization(n)"
      ],
      "metadata": {
        "colab": {
          "base_uri": "https://localhost:8080/",
          "height": 160
        },
        "id": "aCmRAoB8Gmf9",
        "outputId": "487ece36-c7c8-4932-d01b-3dd20e55d9c2"
      },
      "execution_count": 4,
      "outputs": [
        {
          "output_type": "stream",
          "name": "stdout",
          "text": [
            "Enter the number for prime factorization: 84\n",
            "84 2\n",
            "21.0 3\n",
            "7.0 4\n",
            "7.0 5\n",
            "7.0 6\n",
            "7.0 7\n"
          ]
        },
        {
          "output_type": "execute_result",
          "data": {
            "text/plain": [
              "'2x2x3x7'"
            ],
            "application/vnd.google.colaboratory.intrinsic+json": {
              "type": "string"
            }
          },
          "metadata": {},
          "execution_count": 4
        }
      ]
    },
    {
      "cell_type": "code",
      "source": [
        "#6\n",
        "\n",
        "x = int(input(\"Enter first number \"))\n",
        "y = int(input(\"Enter second number \"))\n",
        "\n",
        "def get_proper_divisors_sum(num):\n",
        "  sum = 0\n",
        "  for k in range(1,num):\n",
        "    if num%k == 0:\n",
        "      sum += k\n",
        "    return sum\n",
        "\n",
        "get_proper_divisors_sum(220)"
      ],
      "metadata": {
        "colab": {
          "base_uri": "https://localhost:8080/"
        },
        "id": "Yq5aUwyqGnaA",
        "outputId": "ff7cb124-d6b6-438e-ca0e-48a6b26f00f8"
      },
      "execution_count": 5,
      "outputs": [
        {
          "name": "stdout",
          "output_type": "stream",
          "text": [
            "Enter first number 220\n",
            "Enter second number 284\n"
          ]
        },
        {
          "output_type": "execute_result",
          "data": {
            "text/plain": [
              "1"
            ]
          },
          "metadata": {},
          "execution_count": 5
        }
      ]
    },
    {
      "cell_type": "code",
      "source": [
        "a = [1,2,5,10,'1']\n",
        "\n",
        "def swap_elements(list_temp):\n",
        "  first = list_temp.pop(0)\n",
        "  last = list_temp.pop(-1)\n",
        "  list_temp.insert(0,last)\n",
        "  list_temp.append(first)\n",
        "  return list_temp\n",
        "\n",
        "swap_elements(a)"
      ],
      "metadata": {
        "colab": {
          "base_uri": "https://localhost:8080/"
        },
        "id": "3Y98-S6ai9OZ",
        "outputId": "a1d903bd-9482-4f87-f721-019fe23c70c5"
      },
      "execution_count": 7,
      "outputs": [
        {
          "output_type": "execute_result",
          "data": {
            "text/plain": [
              "['1', 2, 5, 10, 1]"
            ]
          },
          "metadata": {},
          "execution_count": 7
        }
      ]
    }
  ]
}