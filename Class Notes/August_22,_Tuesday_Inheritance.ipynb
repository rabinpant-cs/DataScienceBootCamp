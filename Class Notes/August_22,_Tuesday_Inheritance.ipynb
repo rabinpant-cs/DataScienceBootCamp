{
  "nbformat": 4,
  "nbformat_minor": 0,
  "metadata": {
    "colab": {
      "provenance": []
    },
    "kernelspec": {
      "name": "python3",
      "display_name": "Python 3"
    },
    "language_info": {
      "name": "python"
    }
  },
  "cells": [
    {
      "cell_type": "code",
      "execution_count": 4,
      "metadata": {
        "id": "aL-LGfRis15h"
      },
      "outputs": [],
      "source": [
        "class person:\n",
        "\n",
        "  def __init__(self, fname, lname):\n",
        "    self.firstname = fname\n",
        "    self.lastname = lname\n",
        "\n",
        "  def printname(self):\n",
        "    print(self.firstname, ' ', self.lastname)"
      ]
    },
    {
      "cell_type": "code",
      "source": [
        "class childclass(person):\n",
        "  pass"
      ],
      "metadata": {
        "id": "BffZvUeOuAMR"
      },
      "execution_count": 10,
      "outputs": []
    },
    {
      "cell_type": "code",
      "source": [
        "obj2 = childclass('Anurag', 'Edlabadkar')"
      ],
      "metadata": {
        "id": "bCifbhXvuNt4"
      },
      "execution_count": 9,
      "outputs": []
    },
    {
      "cell_type": "code",
      "source": [
        "obj2.printname()"
      ],
      "metadata": {
        "colab": {
          "base_uri": "https://localhost:8080/"
        },
        "id": "m0jpo3V_vKjq",
        "outputId": "0149f73e-3167-4ed6-f6ef-0b30d12ff14b"
      },
      "execution_count": 7,
      "outputs": [
        {
          "output_type": "stream",
          "name": "stdout",
          "text": [
            "Anurag   Edlabadkar\n"
          ]
        }
      ]
    },
    {
      "cell_type": "code",
      "source": [
        "class person:\n",
        "\n",
        "  def __init__(self, fname, lname):\n",
        "    self.firstname = fname\n",
        "    self.lastname = lname\n",
        "\n",
        "  def printname(self):\n",
        "    print(\"class childclass(person):\", self.firstname, ' ', self.lastname)"
      ],
      "metadata": {
        "id": "Re9XgE3LxjAe"
      },
      "execution_count": 19,
      "outputs": []
    },
    {
      "cell_type": "code",
      "source": [
        "class childclass(person):\n",
        "\n",
        "  def __init__(self, fname, lname):\n",
        "    self.firstname = fname\n",
        "    self.lastname = lname\n"
      ],
      "metadata": {
        "id": "iwzZ75uuxk17"
      },
      "execution_count": 20,
      "outputs": []
    },
    {
      "cell_type": "code",
      "source": [
        "obj1 = childclass('Anurag', \"Ed\")"
      ],
      "metadata": {
        "id": "I4RCuzP6xpz5"
      },
      "execution_count": 21,
      "outputs": []
    },
    {
      "cell_type": "code",
      "source": [
        "obj1.printname()"
      ],
      "metadata": {
        "colab": {
          "base_uri": "https://localhost:8080/"
        },
        "id": "RFTMGs7jxwBt",
        "outputId": "bbea9d3f-84e7-47e4-adee-5a8915492ff4"
      },
      "execution_count": 22,
      "outputs": [
        {
          "output_type": "stream",
          "name": "stdout",
          "text": [
            "class childclass(person): Anurag   Ed\n"
          ]
        }
      ]
    },
    {
      "cell_type": "code",
      "source": [
        "class book:\n",
        "\n",
        "  def __init__(self, name, writer, date):\n",
        "    self.name = name\n",
        "    self.writer = writer\n",
        "    self.date = date\n",
        "\n",
        "  def printit(self):\n",
        "    print(\"The name of the book is \", self.name, \" written by \", self.writer, \" on the date\", self.date)"
      ],
      "metadata": {
        "id": "gMxO0NtM3vEQ"
      },
      "execution_count": 23,
      "outputs": []
    },
    {
      "cell_type": "code",
      "source": [
        "class subofbook(book):\n",
        "\n",
        "  def __init__(self, name, writer, date):\n",
        "    self.name = name\n",
        "    self.writer = writer\n",
        "    self.date = date"
      ],
      "metadata": {
        "id": "6Ji0TSuQ4UW-"
      },
      "execution_count": 27,
      "outputs": []
    },
    {
      "cell_type": "code",
      "source": [
        "bookobject = book('Land in the Skies', 'James Bond', 'Oct 15, 1958')"
      ],
      "metadata": {
        "id": "w2d29z3H4n7s"
      },
      "execution_count": 28,
      "outputs": []
    },
    {
      "cell_type": "code",
      "source": [
        "bookobject.printit()"
      ],
      "metadata": {
        "colab": {
          "base_uri": "https://localhost:8080/"
        },
        "id": "gy4zHv4545pb",
        "outputId": "1584d530-7fa3-46ef-ecca-99fcab76a7ea"
      },
      "execution_count": 29,
      "outputs": [
        {
          "output_type": "stream",
          "name": "stdout",
          "text": [
            "The name of the book is  Land in the Skies  written by  James Bond  on the date Oct 15, 1958\n"
          ]
        }
      ]
    },
    {
      "cell_type": "code",
      "source": [
        "class car:\n",
        "  def __init__(self, name, model):\n",
        "    self.name = name\n",
        "    self.model = model\n",
        "\n",
        "  def print_details(self):\n",
        "    print('class car: ', self.name, self.model)"
      ],
      "metadata": {
        "id": "dwQ3lDa6Bp1e"
      },
      "execution_count": 46,
      "outputs": []
    },
    {
      "cell_type": "code",
      "source": [
        "class audi(car):\n",
        "  def __init__(self, name, model):\n",
        "    super().__init__(name, model)"
      ],
      "metadata": {
        "id": "-tTRIbOnB6Rf"
      },
      "execution_count": 47,
      "outputs": []
    },
    {
      "cell_type": "code",
      "source": [
        "obj1 = audi('audi 777', 777)"
      ],
      "metadata": {
        "id": "9RawEBVnCCv8"
      },
      "execution_count": 48,
      "outputs": []
    },
    {
      "cell_type": "code",
      "source": [
        "obj1.print_details()"
      ],
      "metadata": {
        "colab": {
          "base_uri": "https://localhost:8080/"
        },
        "id": "enxquxwFCklt",
        "outputId": "02081ff6-cb16-4844-b9b7-988e572de829"
      },
      "execution_count": 33,
      "outputs": [
        {
          "output_type": "stream",
          "name": "stdout",
          "text": [
            "class car:  audi 777 777\n"
          ]
        }
      ]
    },
    {
      "cell_type": "code",
      "source": [
        "class audi(car):\n",
        "  def __init__(self, name, model, make):\n",
        "    super().__init__(name, model)\n",
        "    self.make = make\n",
        "\n",
        "  def print_details(self):\n",
        "    print(self.name, self.model, self.make)"
      ],
      "metadata": {
        "id": "OEyzJYjKCqaf"
      },
      "execution_count": 38,
      "outputs": []
    },
    {
      "cell_type": "code",
      "source": [
        "obj1 = audi('audi', 777, 1998)"
      ],
      "metadata": {
        "id": "WFoW8bQiC6aS"
      },
      "execution_count": 39,
      "outputs": []
    },
    {
      "cell_type": "code",
      "source": [
        "obj1.print_details()"
      ],
      "metadata": {
        "colab": {
          "base_uri": "https://localhost:8080/"
        },
        "id": "TkVgrxA4DB3o",
        "outputId": "c37fb277-53d6-4fde-f78d-b677ae08405e"
      },
      "execution_count": 40,
      "outputs": [
        {
          "output_type": "stream",
          "name": "stdout",
          "text": [
            "audi 777 1998\n"
          ]
        }
      ]
    }
  ]
}