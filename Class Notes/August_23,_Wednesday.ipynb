{
  "nbformat": 4,
  "nbformat_minor": 0,
  "metadata": {
    "colab": {
      "provenance": []
    },
    "kernelspec": {
      "name": "python3",
      "display_name": "Python 3"
    },
    "language_info": {
      "name": "python"
    }
  },
  "cells": [
    {
      "cell_type": "code",
      "execution_count": 1,
      "metadata": {
        "id": "OOHRW9I23qj4"
      },
      "outputs": [],
      "source": [
        "class mother:\n",
        "  def __init__(self):\n",
        "    pass\n",
        "\n",
        "class father:\n",
        "  def __init__(self):\n",
        "    pass\n",
        "\n",
        "class daughter(mother, father):\n",
        "  def __init__(self):\n",
        "    pass\n",
        "\n",
        "class son(mother, father):\n",
        "  def __init__(self):\n",
        "    pass"
      ]
    },
    {
      "cell_type": "code",
      "source": [
        "class book:\n",
        "  def __init__(self, name, year, writer):\n",
        "    self.name = name\n",
        "    self.year = year\n",
        "    self.writer = writer\n",
        "\n",
        "    def printbook(self):\n",
        "      print(\"The name\", self.name, \"year\", self.year, \"writer\", self.writer)\n",
        "\n",
        "class notebook:\n",
        "  def __init__(self, kind, lines):\n",
        "    self.kind = kind\n",
        "    self.lines = lines\n",
        "\n",
        "  def printbook(self):\n",
        "    print(\"Kind\", self.kind, \"lines\", self.lines )\n",
        "\n",
        "class biography(book, notebook):\n",
        "  def __init__(self, name, year):\n",
        "    self.name = name\n",
        "    self.year = year\n",
        "\n",
        "class autobiography(book, notebook):\n",
        "  def __init__(self, name, year, kind, lines):\n",
        "    super().__init__(name, year, kind, lines)\n",
        "    self.name = name\n",
        "    self.year = year\n",
        "    self.kind = kind\n",
        "    self.lines = lines\n"
      ],
      "metadata": {
        "id": "X2clJ0mA6X2z"
      },
      "execution_count": 22,
      "outputs": []
    },
    {
      "cell_type": "code",
      "source": [
        "obj1 = autobiography(\"Land of the Lost\", 1997, \"Lined\")"
      ],
      "metadata": {
        "colab": {
          "base_uri": "https://localhost:8080/",
          "height": 304
        },
        "id": "MjpHZDGf89q1",
        "outputId": "0cf97a69-994c-42c5-dfa4-2ee3f5c63549"
      },
      "execution_count": 25,
      "outputs": [
        {
          "output_type": "error",
          "ename": "TypeError",
          "evalue": "ignored",
          "traceback": [
            "\u001b[0;31m---------------------------------------------------------------------------\u001b[0m",
            "\u001b[0;31mTypeError\u001b[0m                                 Traceback (most recent call last)",
            "\u001b[0;32m<ipython-input-25-8d5d8058f65e>\u001b[0m in \u001b[0;36m<cell line: 1>\u001b[0;34m()\u001b[0m\n\u001b[0;32m----> 1\u001b[0;31m \u001b[0mobj1\u001b[0m \u001b[0;34m=\u001b[0m \u001b[0mautobiography\u001b[0m\u001b[0;34m(\u001b[0m\u001b[0;34m\"Land of the Lost\"\u001b[0m\u001b[0;34m,\u001b[0m \u001b[0;36m1997\u001b[0m\u001b[0;34m,\u001b[0m \u001b[0;34m\"Lined\"\u001b[0m\u001b[0;34m,\u001b[0m \u001b[0;36m50\u001b[0m\u001b[0;34m)\u001b[0m\u001b[0;34m\u001b[0m\u001b[0;34m\u001b[0m\u001b[0m\n\u001b[0m",
            "\u001b[0;32m<ipython-input-22-1a556dd71a6c>\u001b[0m in \u001b[0;36m__init__\u001b[0;34m(self, name, year, kind, lines)\u001b[0m\n\u001b[1;32m     23\u001b[0m \u001b[0;32mclass\u001b[0m \u001b[0mautobiography\u001b[0m\u001b[0;34m(\u001b[0m\u001b[0mbook\u001b[0m\u001b[0;34m,\u001b[0m \u001b[0mnotebook\u001b[0m\u001b[0;34m)\u001b[0m\u001b[0;34m:\u001b[0m\u001b[0;34m\u001b[0m\u001b[0;34m\u001b[0m\u001b[0m\n\u001b[1;32m     24\u001b[0m   \u001b[0;32mdef\u001b[0m \u001b[0m__init__\u001b[0m\u001b[0;34m(\u001b[0m\u001b[0mself\u001b[0m\u001b[0;34m,\u001b[0m \u001b[0mname\u001b[0m\u001b[0;34m,\u001b[0m \u001b[0myear\u001b[0m\u001b[0;34m,\u001b[0m \u001b[0mkind\u001b[0m\u001b[0;34m,\u001b[0m \u001b[0mlines\u001b[0m\u001b[0;34m)\u001b[0m\u001b[0;34m:\u001b[0m\u001b[0;34m\u001b[0m\u001b[0;34m\u001b[0m\u001b[0m\n\u001b[0;32m---> 25\u001b[0;31m     \u001b[0msuper\u001b[0m\u001b[0;34m(\u001b[0m\u001b[0;34m)\u001b[0m\u001b[0;34m.\u001b[0m\u001b[0m__init__\u001b[0m\u001b[0;34m(\u001b[0m\u001b[0mname\u001b[0m\u001b[0;34m,\u001b[0m \u001b[0myear\u001b[0m\u001b[0;34m,\u001b[0m \u001b[0mkind\u001b[0m\u001b[0;34m,\u001b[0m \u001b[0mlines\u001b[0m\u001b[0;34m)\u001b[0m\u001b[0;34m\u001b[0m\u001b[0;34m\u001b[0m\u001b[0m\n\u001b[0m\u001b[1;32m     26\u001b[0m     \u001b[0mself\u001b[0m\u001b[0;34m.\u001b[0m\u001b[0mname\u001b[0m \u001b[0;34m=\u001b[0m \u001b[0mname\u001b[0m\u001b[0;34m\u001b[0m\u001b[0;34m\u001b[0m\u001b[0m\n\u001b[1;32m     27\u001b[0m     \u001b[0mself\u001b[0m\u001b[0;34m.\u001b[0m\u001b[0myear\u001b[0m \u001b[0;34m=\u001b[0m \u001b[0myear\u001b[0m\u001b[0;34m\u001b[0m\u001b[0;34m\u001b[0m\u001b[0m\n",
            "\u001b[0;31mTypeError\u001b[0m: book.__init__() takes 4 positional arguments but 5 were given"
          ]
        }
      ]
    },
    {
      "cell_type": "code",
      "source": [
        "obj1.printbook()"
      ],
      "metadata": {
        "colab": {
          "base_uri": "https://localhost:8080/",
          "height": 304
        },
        "id": "C5NErmfV_AvP",
        "outputId": "727084f5-b342-4244-9e8b-72674f57d184"
      },
      "execution_count": 18,
      "outputs": [
        {
          "output_type": "error",
          "ename": "AttributeError",
          "evalue": "ignored",
          "traceback": [
            "\u001b[0;31m---------------------------------------------------------------------------\u001b[0m",
            "\u001b[0;31mAttributeError\u001b[0m                            Traceback (most recent call last)",
            "\u001b[0;32m<ipython-input-18-f5c1a86d5d3d>\u001b[0m in \u001b[0;36m<cell line: 1>\u001b[0;34m()\u001b[0m\n\u001b[0;32m----> 1\u001b[0;31m \u001b[0mobj1\u001b[0m\u001b[0;34m.\u001b[0m\u001b[0mprintbook\u001b[0m\u001b[0;34m(\u001b[0m\u001b[0;34m)\u001b[0m\u001b[0;34m\u001b[0m\u001b[0;34m\u001b[0m\u001b[0m\n\u001b[0m",
            "\u001b[0;32m<ipython-input-13-77493912d54a>\u001b[0m in \u001b[0;36mprintbook\u001b[0;34m(self)\u001b[0m\n\u001b[1;32m     14\u001b[0m \u001b[0;34m\u001b[0m\u001b[0m\n\u001b[1;32m     15\u001b[0m   \u001b[0;32mdef\u001b[0m \u001b[0mprintbook\u001b[0m\u001b[0;34m(\u001b[0m\u001b[0mself\u001b[0m\u001b[0;34m)\u001b[0m\u001b[0;34m:\u001b[0m\u001b[0;34m\u001b[0m\u001b[0;34m\u001b[0m\u001b[0m\n\u001b[0;32m---> 16\u001b[0;31m     \u001b[0mprint\u001b[0m\u001b[0;34m(\u001b[0m\u001b[0;34m\"Kind\"\u001b[0m\u001b[0;34m,\u001b[0m \u001b[0mself\u001b[0m\u001b[0;34m.\u001b[0m\u001b[0mkind\u001b[0m\u001b[0;34m,\u001b[0m \u001b[0;34m\"lines\"\u001b[0m\u001b[0;34m,\u001b[0m \u001b[0mself\u001b[0m\u001b[0;34m.\u001b[0m\u001b[0mlines\u001b[0m \u001b[0;34m)\u001b[0m\u001b[0;34m\u001b[0m\u001b[0;34m\u001b[0m\u001b[0m\n\u001b[0m\u001b[1;32m     17\u001b[0m \u001b[0;34m\u001b[0m\u001b[0m\n\u001b[1;32m     18\u001b[0m \u001b[0;32mclass\u001b[0m \u001b[0mbiography\u001b[0m\u001b[0;34m(\u001b[0m\u001b[0mbook\u001b[0m\u001b[0;34m,\u001b[0m \u001b[0mnotebook\u001b[0m\u001b[0;34m)\u001b[0m\u001b[0;34m:\u001b[0m\u001b[0;34m\u001b[0m\u001b[0;34m\u001b[0m\u001b[0m\n",
            "\u001b[0;31mAttributeError\u001b[0m: 'autobiography' object has no attribute 'lines'"
          ]
        }
      ]
    },
    {
      "cell_type": "code",
      "source": [
        "class a:\n",
        "  var_a1 = \"This is my first print statement inside class a \"\n",
        "  def __init__(self):\n",
        "    self.var_a2 = \"This my second print statement inside function __init__ of class a\"\n",
        "    self.var_a1 = \"Instance variable in class a\"\n",
        "    self.var_tmp1 = \"This is var_tmp1 inside class a\"\n",
        "\n",
        "class b(a):\n",
        "  var_b1 = \"this is my third print statement inside class b \"\n",
        "  def __init__(self):\n",
        "\n",
        "    self.var_b2 = \"This is my fouth print statement inside function __init__ of class b\"\n",
        "    self.var_a1 = \"Instance variable in class b\"\n",
        "    self.var_tmp1 = \"This is var_tmp1 inside class b\"\n",
        "    super().__init__()"
      ],
      "metadata": {
        "id": "OkbzCCkzLx1u"
      },
      "execution_count": 26,
      "outputs": []
    },
    {
      "cell_type": "code",
      "source": [
        "obj_a = a()\n",
        "obj_b = b()\n",
        "\n",
        "print(obj_a.var_a1)\n",
        "print(obj_a.var_tmp1)\n",
        "print(obj_b.var_a1)\n",
        "print(obj_b.var_a2)\n",
        "print(obj_b.var_b1)\n",
        "print(obj_b.var_b2)\n",
        "print(obj_b.var_tmp1)"
      ],
      "metadata": {
        "colab": {
          "base_uri": "https://localhost:8080/"
        },
        "id": "c9GRyM2gL-Gn",
        "outputId": "bbfeaf44-5296-4859-82a7-bcf9dcf6c7e0"
      },
      "execution_count": 27,
      "outputs": [
        {
          "output_type": "stream",
          "name": "stdout",
          "text": [
            "Instance variable in class a\n",
            "This is var_tmp1 inside class a\n",
            "Instance variable in class a\n",
            "This my second print statement inside function __init__ of class a\n",
            "this is my third print statement inside class b \n",
            "This is my fouth print statement inside function __init__ of class b\n",
            "This is var_tmp1 inside class a\n"
          ]
        }
      ]
    }
  ]
}