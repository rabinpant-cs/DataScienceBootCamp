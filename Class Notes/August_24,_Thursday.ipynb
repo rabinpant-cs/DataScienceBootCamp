{
  "nbformat": 4,
  "nbformat_minor": 0,
  "metadata": {
    "colab": {
      "provenance": []
    },
    "kernelspec": {
      "name": "python3",
      "display_name": "Python 3"
    },
    "language_info": {
      "name": "python"
    }
  },
  "cells": [
    {
      "cell_type": "code",
      "execution_count": 12,
      "metadata": {
        "colab": {
          "base_uri": "https://localhost:8080/"
        },
        "id": "jvENCIF-C3kT",
        "outputId": "19176812-1930-4e5d-8bd6-447c804caee5"
      },
      "outputs": [
        {
          "output_type": "stream",
          "name": "stdout",
          "text": [
            "Lab\n",
            "Black\n",
            "Woof\n",
            "Ragdoll\n",
            "Grey\n",
            "Meow\n",
            "American\n",
            "White\n",
            "Moo\n"
          ]
        }
      ],
      "source": [
        "class Animal:\n",
        "  def __init__(self, type, color):\n",
        "    self.type = type\n",
        "    self.color = color\n",
        "\n",
        "  def talk(self):\n",
        "    print(\"Talk\")\n",
        "\n",
        "class Dog(Animal):\n",
        "  def talk(self):\n",
        "    print(\"Woof\")\n",
        "\n",
        "class Cat(Animal):\n",
        "  def talk(self):\n",
        "    print(\"Meow\")\n",
        "\n",
        "class Cow(Animal):\n",
        "  def talk(self):\n",
        "    print(\"Moo\")\n",
        "\n",
        "\n",
        "\n",
        "dog = Dog(\"Lab\", \"Black\")\n",
        "cat = Cat(\"Ragdoll\", \"Grey\")\n",
        "cow = Cow(\"American\", \"White\")\n",
        "\n",
        "for i in (dog,cat,cow):\n",
        "  print(i.type)\n",
        "  print(i.color)\n",
        "  i.talk()"
      ]
    },
    {
      "cell_type": "code",
      "source": [
        "##\n",
        "\n",
        "def display_board(board):\n",
        "  print(\" \" + \" {} | {} | {} \".format(board[7], board[8], board[9]))\n",
        "  print(\" \" + \"----------\")\n",
        "  print(\" \" + \" {} | {} | {} \".format(board[4], board[5], board[6]))\n",
        "  print(\" \" + \"----------\")\n",
        "  print(\" \" + \" {} | {} | {} \".format(board[1], board[2], board[9]))\n",
        "  print(\" \" + \"----------\")\n",
        "\n",
        "available = [str(num) for num in range(0,10)]\n",
        "display_board(available)\n",
        "\n",
        "position_to_replace = int(input(\"Enter a number between 1 and 9: \"))\n",
        "while True:\n",
        "  if position_to_replace <1 or position_to_replace>9:\n",
        "    print(\"Invalid Input\")\n",
        "    position_to_replace = int(input(\"Enter a number between 1 and 9: \"))\n",
        "  else:\n",
        "    available[position_to_replace]='X'\n",
        "    break\n",
        "\n",
        "display_board(available)\n"
      ],
      "metadata": {
        "colab": {
          "base_uri": "https://localhost:8080/"
        },
        "id": "OH3misbnr7DZ",
        "outputId": "b7f7d3ba-f94a-4d95-f318-6f3f02b42ae3"
      },
      "execution_count": 17,
      "outputs": [
        {
          "output_type": "stream",
          "name": "stdout",
          "text": [
            "  7 | 8 | 9 \n",
            " ----------\n",
            "  4 | 5 | 6 \n",
            " ----------\n",
            "  1 | 2 | 9 \n",
            " ----------\n",
            "Enter a number between 1 and 9: 7\n",
            "  X | 8 | 9 \n",
            " ----------\n",
            "  4 | 5 | 6 \n",
            " ----------\n",
            "  1 | 2 | 9 \n",
            " ----------\n"
          ]
        }
      ]
    }
  ]
}