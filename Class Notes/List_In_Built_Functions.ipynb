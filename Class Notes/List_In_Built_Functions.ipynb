{
  "nbformat": 4,
  "nbformat_minor": 0,
  "metadata": {
    "colab": {
      "provenance": []
    },
    "kernelspec": {
      "name": "python3",
      "display_name": "Python 3"
    },
    "language_info": {
      "name": "python"
    }
  },
  "cells": [
    {
      "cell_type": "code",
      "execution_count": 1,
      "metadata": {
        "colab": {
          "base_uri": "https://localhost:8080/"
        },
        "id": "pay8zWEoKUA1",
        "outputId": "d31d193b-5be0-400a-bd37-267b6d35e196"
      },
      "outputs": [
        {
          "output_type": "stream",
          "name": "stdout",
          "text": [
            "[1, 2, 3, 4, 5, 6, 7]\n"
          ]
        }
      ],
      "source": [
        "a = [1,2,3,4,5,6]\n",
        "a.append(7)\n",
        "print(a)"
      ]
    },
    {
      "cell_type": "code",
      "source": [
        "a = [1,2,3,4,5,6,7]\n",
        "a.clear()\n",
        "print(a)"
      ],
      "metadata": {
        "colab": {
          "base_uri": "https://localhost:8080/"
        },
        "id": "Gs6l4n11LYf9",
        "outputId": "c5127573-e287-4e24-aa84-40b60ce028c6"
      },
      "execution_count": 2,
      "outputs": [
        {
          "output_type": "stream",
          "name": "stdout",
          "text": [
            "[]\n"
          ]
        }
      ]
    },
    {
      "cell_type": "code",
      "source": [
        "a_list = [1,2,3,4,5,6,7]\n",
        "b_list = a_list\n",
        "c_list = a_list.copy()\n",
        "print(a_list)\n",
        "print(b_list)\n",
        "print(c_list)"
      ],
      "metadata": {
        "id": "VO3oZzBML9XU"
      },
      "execution_count": 3,
      "outputs": []
    },
    {
      "cell_type": "code",
      "source": [
        "a_list = [1,2,3,4,5,6,7]\n",
        "print(a_list.count(7))"
      ],
      "metadata": {
        "colab": {
          "base_uri": "https://localhost:8080/"
        },
        "id": "mcLX28-DNtSf",
        "outputId": "056ecda4-c2a7-4ec1-9434-b8592c6a1843"
      },
      "execution_count": 5,
      "outputs": [
        {
          "output_type": "stream",
          "name": "stdout",
          "text": [
            "1\n"
          ]
        }
      ]
    },
    {
      "cell_type": "code",
      "source": [
        "a_list = [1,2,3,4,5,6,7]\n",
        "a_list.append([8,9,10])\n",
        "print(a_list)\n",
        "a_list.extend([8,9,10])\n",
        "print(a_list)\n",
        "print(a_list[7][::-1])"
      ],
      "metadata": {
        "colab": {
          "base_uri": "https://localhost:8080/"
        },
        "id": "HO8PnzAvOLSq",
        "outputId": "83752458-1bee-446e-fcfa-58077234c25e"
      },
      "execution_count": 15,
      "outputs": [
        {
          "output_type": "stream",
          "name": "stdout",
          "text": [
            "[1, 2, 3, 4, 5, 6, 7, [8, 9, 10]]\n",
            "[1, 2, 3, 4, 5, 6, 7, [8, 9, 10], 8, 9, 10]\n",
            "[10, 9, 8]\n"
          ]
        }
      ]
    },
    {
      "cell_type": "code",
      "source": [
        "a_list = [1,2,3,4,5,6,7]\n",
        "print(a_list.index(6))"
      ],
      "metadata": {
        "colab": {
          "base_uri": "https://localhost:8080/"
        },
        "id": "j-pwoGmWU8yj",
        "outputId": "f4431dbf-922f-4557-f5b1-41d7937763ae"
      },
      "execution_count": 16,
      "outputs": [
        {
          "output_type": "stream",
          "name": "stdout",
          "text": [
            "5\n"
          ]
        }
      ]
    },
    {
      "cell_type": "code",
      "source": [
        "a_list = [1,2,3,4,5,6,7]\n",
        "a_list.insert(3,5)\n",
        "print(a_list)"
      ],
      "metadata": {
        "colab": {
          "base_uri": "https://localhost:8080/"
        },
        "id": "1L93nmTkVG4H",
        "outputId": "af70a26a-1835-47da-8923-a65b69b2f8ba"
      },
      "execution_count": 20,
      "outputs": [
        {
          "output_type": "stream",
          "name": "stdout",
          "text": [
            "[1, 2, 3, 5, 4, 5, 6, 7]\n"
          ]
        }
      ]
    },
    {
      "cell_type": "code",
      "source": [
        "a_list = [1,2,3,4,5,6,7]\n",
        "a_list.remove(4)\n",
        "print(a_list)"
      ],
      "metadata": {
        "colab": {
          "base_uri": "https://localhost:8080/"
        },
        "id": "z01wqHZbXtwz",
        "outputId": "f4ef308f-1d80-4518-ecd9-f1850dc2d37c"
      },
      "execution_count": 22,
      "outputs": [
        {
          "output_type": "stream",
          "name": "stdout",
          "text": [
            "[1, 2, 3, 5, 6, 7]\n"
          ]
        }
      ]
    },
    {
      "cell_type": "code",
      "source": [
        "a_list = [1,2,3,4,5,6,7]\n",
        "a_list.reverse()\n",
        "print(a_list)"
      ],
      "metadata": {
        "colab": {
          "base_uri": "https://localhost:8080/"
        },
        "id": "rWeZLdj0X_d8",
        "outputId": "b725120d-0cc1-4ddc-c148-bca90255dbd3"
      },
      "execution_count": 24,
      "outputs": [
        {
          "output_type": "stream",
          "name": "stdout",
          "text": [
            "[7, 6, 5, 4, 3, 2, 1]\n"
          ]
        }
      ]
    },
    {
      "cell_type": "code",
      "source": [
        "a_list = [1,2,3,4,5,6,7, 9 , 10, 15, 12]\n",
        "a_list.sort()\n",
        "print(a_list)"
      ],
      "metadata": {
        "colab": {
          "base_uri": "https://localhost:8080/"
        },
        "id": "fbBgGGbNZDCU",
        "outputId": "5b4ebe17-5038-41ea-afda-b66f4467983e"
      },
      "execution_count": 25,
      "outputs": [
        {
          "output_type": "stream",
          "name": "stdout",
          "text": [
            "[1, 2, 3, 4, 5, 6, 7, 9, 10, 12, 15]\n"
          ]
        }
      ]
    },
    {
      "cell_type": "code",
      "source": [
        "a_list = [1,2,3,4,5,6,7, 9 , 10, 15, 12]\n",
        "a_list.sort(reverse=True)\n",
        "print(a_list)"
      ],
      "metadata": {
        "colab": {
          "base_uri": "https://localhost:8080/"
        },
        "id": "CLwpiBcnZK-g",
        "outputId": "8eb83bc8-986e-4c7d-ed95-2c28634ec0e6"
      },
      "execution_count": 26,
      "outputs": [
        {
          "output_type": "stream",
          "name": "stdout",
          "text": [
            "[15, 12, 10, 9, 7, 6, 5, 4, 3, 2, 1]\n"
          ]
        }
      ]
    },
    {
      "cell_type": "code",
      "source": [
        "b_tup = (1,2,3,4,5,6,7)\n",
        "print(b_tup.count(6))"
      ],
      "metadata": {
        "colab": {
          "base_uri": "https://localhost:8080/"
        },
        "id": "BwLzdSH7a3NF",
        "outputId": "91d1b65a-d2a9-4fbc-f577-127a304f8b27"
      },
      "execution_count": 28,
      "outputs": [
        {
          "output_type": "stream",
          "name": "stdout",
          "text": [
            "1\n"
          ]
        }
      ]
    },
    {
      "cell_type": "code",
      "source": [
        "b_tup = (1,2,3,4,5,6,7)\n",
        "b_tup.index(4)"
      ],
      "metadata": {
        "colab": {
          "base_uri": "https://localhost:8080/"
        },
        "id": "7rnU9IgOa6mR",
        "outputId": "e1848625-78ad-4c80-ced7-e2f70c3ee2b5"
      },
      "execution_count": 29,
      "outputs": [
        {
          "output_type": "execute_result",
          "data": {
            "text/plain": [
              "3"
            ]
          },
          "metadata": {},
          "execution_count": 29
        }
      ]
    },
    {
      "cell_type": "code",
      "source": [
        "#1\n",
        "\n",
        "a = [1,2,3,4,5,11,1,2,6,1,8]\n",
        "b = []\n",
        "\n",
        "for i in a:\n",
        "  if i not in b:\n",
        "    b.append(i)\n",
        "\n",
        "print(b)"
      ],
      "metadata": {
        "colab": {
          "base_uri": "https://localhost:8080/"
        },
        "id": "m0R9e4qJb8LM",
        "outputId": "644f6511-2061-426b-9b5c-17508c913010"
      },
      "execution_count": 30,
      "outputs": [
        {
          "output_type": "stream",
          "name": "stdout",
          "text": [
            "[1, 2, 3, 4, 5, 11, 6, 8]\n"
          ]
        }
      ]
    },
    {
      "cell_type": "code",
      "source": [
        "#2\n",
        "\n",
        "list_prime = []\n",
        "for k in range(2,100):\n",
        "  flag = True\n",
        "  for s in range(2,k):\n",
        "    if k%s == 0:\n",
        "      flag = False\n",
        "      break\n",
        "  if flag:\n",
        "      list_prime.append(k)\n",
        "\n",
        "for primes in list_prime:\n",
        "  print(primes, \"is a prime number\")\n",
        ""
      ],
      "metadata": {
        "colab": {
          "base_uri": "https://localhost:8080/"
        },
        "id": "rl0ffRckeBil",
        "outputId": "8abcff7c-eaba-4334-fe5e-8e5b3f019dc3"
      },
      "execution_count": 7,
      "outputs": [
        {
          "output_type": "stream",
          "name": "stdout",
          "text": [
            "2 is a prime number\n",
            "3 is a prime number\n",
            "5 is a prime number\n",
            "7 is a prime number\n",
            "11 is a prime number\n",
            "13 is a prime number\n",
            "17 is a prime number\n",
            "19 is a prime number\n",
            "23 is a prime number\n",
            "29 is a prime number\n",
            "31 is a prime number\n",
            "37 is a prime number\n",
            "41 is a prime number\n",
            "43 is a prime number\n",
            "47 is a prime number\n",
            "53 is a prime number\n",
            "59 is a prime number\n",
            "61 is a prime number\n",
            "67 is a prime number\n",
            "71 is a prime number\n",
            "73 is a prime number\n",
            "79 is a prime number\n",
            "83 is a prime number\n",
            "89 is a prime number\n",
            "97 is a prime number\n"
          ]
        }
      ]
    },
    {
      "cell_type": "code",
      "source": [
        "#3\n",
        "a = [1,2,3,4,5,11,1,2,6,1,8]\n",
        "reverse_list = []\n",
        "\n",
        "for k in range(len(a)-1,-1,-1):\n",
        "  reverse_list.append(a[k])\n",
        "print(reverse_list)"
      ],
      "metadata": {
        "colab": {
          "base_uri": "https://localhost:8080/"
        },
        "id": "6sowSg3DdAlU",
        "outputId": "0b63ad62-b3f5-45b3-986e-555082d030cf"
      },
      "execution_count": 11,
      "outputs": [
        {
          "output_type": "stream",
          "name": "stdout",
          "text": [
            "[8, 1, 6, 2, 1, 11, 5, 4, 3, 2, 1]\n"
          ]
        }
      ]
    },
    {
      "cell_type": "code",
      "source": [
        "#4\n",
        "\n",
        "for i in range(1,11):\n",
        "  print(i*13, end=\" \")"
      ],
      "metadata": {
        "colab": {
          "base_uri": "https://localhost:8080/"
        },
        "id": "5FYIfIKzdBOt",
        "outputId": "9b80bd17-f74b-473e-f55b-d2f8e3fc3288"
      },
      "execution_count": 10,
      "outputs": [
        {
          "output_type": "stream",
          "name": "stdout",
          "text": [
            "13 26 39 52 65 78 91 104 117 130 "
          ]
        }
      ]
    },
    {
      "cell_type": "code",
      "source": [],
      "metadata": {
        "id": "E4QUJePAewVj"
      },
      "execution_count": null,
      "outputs": []
    }
  ]
}