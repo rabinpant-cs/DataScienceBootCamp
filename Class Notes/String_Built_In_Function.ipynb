{
  "nbformat": 4,
  "nbformat_minor": 0,
  "metadata": {
    "colab": {
      "provenance": []
    },
    "kernelspec": {
      "name": "python3",
      "display_name": "Python 3"
    },
    "language_info": {
      "name": "python"
    }
  },
  "cells": [
    {
      "cell_type": "code",
      "execution_count": 7,
      "metadata": {
        "colab": {
          "base_uri": "https://localhost:8080/"
        },
        "id": "G5vY1zNk1EiM",
        "outputId": "efe3f2b6-b139-4d51-c8fa-80e3e216209d"
      },
      "outputs": [
        {
          "output_type": "stream",
          "name": "stdout",
          "text": [
            "<class 'str'>\n",
            "Python\n",
            "Python\n",
            "Python is an 'OOP' language\n",
            "How are you doing day? \"Well, I'm doing good.\" \n"
          ]
        }
      ],
      "source": [
        "str1 = \"Python\"\n",
        "print(type(str1))\n",
        "\n",
        "str1 = 'Python'\n",
        "print(str1)\n",
        "\n",
        "str1 = \"Python\"\n",
        "print(str1)\n",
        "\n",
        "str1 = \"Python is an 'OOP' language\"\n",
        "print(str1)\n",
        "\n",
        "str1 = \"\"\"How are you doing day? \"Well, I'm doing good.\" \"\"\"\n",
        "print(str1)\n",
        "\n"
      ]
    },
    {
      "cell_type": "code",
      "source": [
        "lst1 = \"1,2,3,4,5,6,7\"\n",
        "\n",
        "print(type(lst1))"
      ],
      "metadata": {
        "colab": {
          "base_uri": "https://localhost:8080/"
        },
        "id": "vttrJnuP51yb",
        "outputId": "8ac26cbb-4160-4877-b280-669958a3a2ed"
      },
      "execution_count": 8,
      "outputs": [
        {
          "output_type": "stream",
          "name": "stdout",
          "text": [
            "<class 'str'>\n"
          ]
        }
      ]
    },
    {
      "cell_type": "code",
      "source": [
        "tup1 = (1,2,3,4,5,6,7,8)\n",
        "print(type(tup1))"
      ],
      "metadata": {
        "colab": {
          "base_uri": "https://localhost:8080/"
        },
        "id": "kOwEyLan6h-x",
        "outputId": "aed8b37f-4602-414a-9cb7-961d128f8d6e"
      },
      "execution_count": 9,
      "outputs": [
        {
          "output_type": "stream",
          "name": "stdout",
          "text": [
            "<class 'tuple'>\n"
          ]
        }
      ]
    },
    {
      "cell_type": "code",
      "source": [
        "set1 = {0.12, 0, 1, 'a', 'c', \"!\", \"@\"}\n",
        "\n",
        "print(type(set1))"
      ],
      "metadata": {
        "colab": {
          "base_uri": "https://localhost:8080/"
        },
        "id": "dBRVQzSc7lUq",
        "outputId": "a6627962-9db1-400d-cf75-eeb1eafb9f76"
      },
      "execution_count": 12,
      "outputs": [
        {
          "output_type": "stream",
          "name": "stdout",
          "text": [
            "<class 'set'>\n"
          ]
        }
      ]
    },
    {
      "cell_type": "code",
      "source": [
        "dict1 = {'a': 'china', 'b': 'India', 'c':'nepal'}\n",
        "\n",
        "print(type(dict1))"
      ],
      "metadata": {
        "colab": {
          "base_uri": "https://localhost:8080/"
        },
        "id": "SDZiNDv4__-I",
        "outputId": "9986fe5d-a501-4b59-a838-8740a513ed4f"
      },
      "execution_count": 14,
      "outputs": [
        {
          "output_type": "stream",
          "name": "stdout",
          "text": [
            "<class 'dict'>\n"
          ]
        }
      ]
    },
    {
      "cell_type": "code",
      "source": [
        "str1 = (\"russia\")\n",
        "print(str1[0])\n",
        "print(str1[1])\n",
        "print(str1[2])\n",
        "print(str1[3])\n",
        "print(str1[4])\n",
        "print(str1[5])"
      ],
      "metadata": {
        "colab": {
          "base_uri": "https://localhost:8080/"
        },
        "id": "Ra3-ejF3Cpw_",
        "outputId": "08439dcc-790b-4112-ff21-65e16ca0cf9c"
      },
      "execution_count": 15,
      "outputs": [
        {
          "output_type": "stream",
          "name": "stdout",
          "text": [
            "r\n",
            "u\n",
            "s\n",
            "s\n",
            "i\n",
            "a\n"
          ]
        }
      ]
    },
    {
      "cell_type": "code",
      "source": [
        "str1 = \"hello world\"\n",
        "print(str1.capitalize())"
      ],
      "metadata": {
        "colab": {
          "base_uri": "https://localhost:8080/"
        },
        "id": "Iyy3spAkH5KB",
        "outputId": "13697d99-47be-4511-a6fb-b2f9742e37a5"
      },
      "execution_count": 20,
      "outputs": [
        {
          "output_type": "stream",
          "name": "stdout",
          "text": [
            "Hello world\n"
          ]
        }
      ]
    },
    {
      "cell_type": "code",
      "source": [
        "str1 = \"HeLlO WoRlD\"\n",
        "print(str1.casefold())"
      ],
      "metadata": {
        "colab": {
          "base_uri": "https://localhost:8080/"
        },
        "id": "fIBDK4sxUuTZ",
        "outputId": "7c6ad601-d55a-4f2d-a006-b884cf469cce"
      },
      "execution_count": 23,
      "outputs": [
        {
          "output_type": "stream",
          "name": "stdout",
          "text": [
            "hello world\n"
          ]
        }
      ]
    },
    {
      "cell_type": "code",
      "source": [
        "str1 = \"hello world \"\n",
        "print(str1.center(20, \" \"))"
      ],
      "metadata": {
        "colab": {
          "base_uri": "https://localhost:8080/"
        },
        "id": "i5llLabyVrbo",
        "outputId": "9263e214-149a-4b7f-9360-d996f4957b5f"
      },
      "execution_count": 30,
      "outputs": [
        {
          "output_type": "stream",
          "name": "stdout",
          "text": [
            "    hello world     \n"
          ]
        }
      ]
    },
    {
      "cell_type": "code",
      "source": [
        "str1 = \"hello hello to everyone and the people of this world Hello again\"\n",
        "print(str1.count(\"hello\"))"
      ],
      "metadata": {
        "colab": {
          "base_uri": "https://localhost:8080/"
        },
        "id": "nznutuaCXT1r",
        "outputId": "2d3c5724-73f6-4aa8-94df-1cb5cbab7d6a"
      },
      "execution_count": 35,
      "outputs": [
        {
          "output_type": "stream",
          "name": "stdout",
          "text": [
            "2\n"
          ]
        }
      ]
    },
    {
      "cell_type": "code",
      "source": [
        "str1 = \"hello hello to everyone and the people of this world Hello again\"\n",
        "print(str1.endswith(\"n\"))"
      ],
      "metadata": {
        "colab": {
          "base_uri": "https://localhost:8080/"
        },
        "id": "TZZTL4HJbrZX",
        "outputId": "cf8f1ac8-7e0a-4e29-e343-4b3f0f554ea0"
      },
      "execution_count": 36,
      "outputs": [
        {
          "output_type": "stream",
          "name": "stdout",
          "text": [
            "True\n"
          ]
        }
      ]
    },
    {
      "cell_type": "code",
      "source": [
        "str1 = \"hello hello to everyone and the people of this world Hello again\"\n",
        "print(str1.endswith(\"p\"))"
      ],
      "metadata": {
        "colab": {
          "base_uri": "https://localhost:8080/"
        },
        "id": "fRxqq0l6bvMF",
        "outputId": "a070a026-c132-4a84-d8a8-cbe688d10118"
      },
      "execution_count": 37,
      "outputs": [
        {
          "output_type": "stream",
          "name": "stdout",
          "text": [
            "False\n"
          ]
        }
      ]
    },
    {
      "cell_type": "code",
      "source": [
        "str1 = \"hello hello to everyone and the people of this world Hello again\"\n",
        "print(str1.find(\"and\"))"
      ],
      "metadata": {
        "colab": {
          "base_uri": "https://localhost:8080/"
        },
        "id": "4-5KsUxbeIOj",
        "outputId": "bb863449-f6ee-47e2-e78d-704e3dbace12"
      },
      "execution_count": 38,
      "outputs": [
        {
          "output_type": "stream",
          "name": "stdout",
          "text": [
            "24\n"
          ]
        }
      ]
    },
    {
      "cell_type": "code",
      "source": [
        "str1 = (\"hello {fname}, I'd like to apply for {position}\")\n",
        "print(str1.format(fname = \"Rabin\", position = \"Data Scientist\"))\n"
      ],
      "metadata": {
        "colab": {
          "base_uri": "https://localhost:8080/"
        },
        "id": "bZOTrwsWfnCf",
        "outputId": "8c0fae30-cc91-404a-86e3-025fa3ccc7de"
      },
      "execution_count": 42,
      "outputs": [
        {
          "output_type": "stream",
          "name": "stdout",
          "text": [
            "hello Rabin, I'd like to apply for Data Scientist\n"
          ]
        }
      ]
    }
  ]
}