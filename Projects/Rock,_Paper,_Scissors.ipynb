{
  "nbformat": 4,
  "nbformat_minor": 0,
  "metadata": {
    "colab": {
      "provenance": []
    },
    "kernelspec": {
      "name": "python3",
      "display_name": "Python 3"
    },
    "language_info": {
      "name": "python"
    }
  },
  "cells": [
    {
      "cell_type": "code",
      "execution_count": 7,
      "metadata": {
        "colab": {
          "base_uri": "https://localhost:8080/"
        },
        "id": "iphA6arTZeB3",
        "outputId": "cd583e26-f354-4093-be06-b138ecc80ba0"
      },
      "outputs": [
        {
          "output_type": "stream",
          "name": "stdout",
          "text": [
            "Enter your entry: (rock, paper or scissors) rock\n",
            "You chose:  rock  and computer's choice was  rock\n",
            "It's a tie. You both chose rock\n",
            "Enter your entry: (rock, paper or scissors) rock\n",
            "You chose:  rock  and computer's choice was  paper\n",
            "Paper got the rock. Computer wins.\n",
            "Enter your entry: (rock, paper or scissors) rock\n",
            "You chose:  rock  and computer's choice was  scissors\n",
            "Rock got the scissor. You win\n"
          ]
        }
      ],
      "source": [
        "#Paper, Rock, Scissor\n",
        "\n",
        "\n",
        "import random\n",
        "\n",
        "while True:\n",
        "  ask_user = input(\"Enter your entry: (rock, paper or scissors) \")\n",
        "  ask = ask_user.lower()\n",
        "  possible_actions = ['rock', 'paper', 'scissors']\n",
        "  computer_action = random.choice(possible_actions)\n",
        "  print(\"You chose: \", ask, \" and computer's choice was \", computer_action)\n",
        "\n",
        "  if ask == computer_action:\n",
        "    print(\"It's a tie. You both chose\", computer_action)\n",
        "\n",
        "  elif ask == \"rock\":\n",
        "    if computer_action == \"paper\":\n",
        "      print(\"Paper got the rock. Computer wins.\")\n",
        "    else:\n",
        "      print(\"Rock got the scissor. You win\")\n",
        "      break\n",
        "\n",
        "  elif ask == \"paper\":\n",
        "    if computer_action == \"rock\":\n",
        "      print(\"Paper got the rock. You win.\")\n",
        "      break\n",
        "    else:\n",
        "      print(\"Scissor got the Paper. Computer wins.\")\n",
        "\n",
        "  elif ask == \"scissors\":\n",
        "    if computer_action == \"rock\":\n",
        "      print(\"Rock got the Scissors. Computer wins.\")\n",
        "    else:\n",
        "      print(\"Scissor got the Paper. You win\")\n",
        "      break"
      ]
    }
  ]
}